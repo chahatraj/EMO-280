{
  "nbformat": 4,
  "nbformat_minor": 0,
  "metadata": {
    "kernelspec": {
      "display_name": "Python 3",
      "language": "python",
      "name": "python3"
    },
    "language_info": {
      "codemirror_mode": {
        "name": "ipython",
        "version": 3
      },
      "file_extension": ".py",
      "mimetype": "text/x-python",
      "name": "python",
      "nbconvert_exporter": "python",
      "pygments_lexer": "ipython3",
      "version": "3.6.2"
    },
    "colab": {
      "name": "Collocations.ipynb",
      "provenance": []
    }
  },
  "cells": [
    {
      "cell_type": "markdown",
      "metadata": {
        "id": "xw-VhwC4ni8b"
      },
      "source": [
        "# Collocations"
      ]
    },
    {
      "cell_type": "code",
      "metadata": {
        "collapsed": true,
        "id": "NqnCdWu-ni8u"
      },
      "source": [
        "#load all libraries\n",
        "import numpy as np\n",
        "import pandas as pd\n",
        "import re\n",
        "import nltk\n",
        "from nltk.corpus import stopwords\n",
        "import spacy\n",
        "import string"
      ],
      "execution_count": null,
      "outputs": []
    },
    {
      "cell_type": "markdown",
      "metadata": {
        "id": "TjPdvbzgni8w"
      },
      "source": [
        "Data: https://www.kaggle.com/datafiniti/hotel-reviews/data"
      ]
    },
    {
      "cell_type": "code",
      "metadata": {
        "id": "BlqRbz1Nni8x"
      },
      "source": [
        "#load reviews data\n",
        "reviews = pd.read_csv('cleanaarogya.csv')"
      ],
      "execution_count": null,
      "outputs": []
    },
    {
      "cell_type": "code",
      "metadata": {
        "id": "GzHbhS5-ni8y",
        "colab": {
          "base_uri": "https://localhost:8080/",
          "height": 111
        },
        "outputId": "089ea4b1-00d3-42ce-f058-604a29faec2f"
      },
      "source": [
        "reviews.head(2)"
      ],
      "execution_count": null,
      "outputs": [
        {
          "output_type": "execute_result",
          "data": {
            "text/html": [
              "<div>\n",
              "<style scoped>\n",
              "    .dataframe tbody tr th:only-of-type {\n",
              "        vertical-align: middle;\n",
              "    }\n",
              "\n",
              "    .dataframe tbody tr th {\n",
              "        vertical-align: top;\n",
              "    }\n",
              "\n",
              "    .dataframe thead th {\n",
              "        text-align: right;\n",
              "    }\n",
              "</style>\n",
              "<table border=\"1\" class=\"dataframe\">\n",
              "  <thead>\n",
              "    <tr style=\"text-align: right;\">\n",
              "      <th></th>\n",
              "      <th>REVIEW</th>\n",
              "    </tr>\n",
              "  </thead>\n",
              "  <tbody>\n",
              "    <tr>\n",
              "      <th>0</th>\n",
              "      <td>cowinapp not ios aarogyasetu user register moh...</td>\n",
              "    </tr>\n",
              "    <tr>\n",
              "      <th>1</th>\n",
              "      <td>corona warn app germany permanently show risk ...</td>\n",
              "    </tr>\n",
              "  </tbody>\n",
              "</table>\n",
              "</div>"
            ],
            "text/plain": [
              "                                              REVIEW\n",
              "0  cowinapp not ios aarogyasetu user register moh...\n",
              "1  corona warn app germany permanently show risk ..."
            ]
          },
          "metadata": {
            "tags": []
          },
          "execution_count": 4
        }
      ]
    },
    {
      "cell_type": "markdown",
      "metadata": {
        "id": "Vh5xBnSvni83"
      },
      "source": [
        "Extract only the reviews..."
      ]
    },
    {
      "cell_type": "code",
      "metadata": {
        "collapsed": true,
        "id": "BxOy2Vexni84"
      },
      "source": [
        "comments = reviews['REVIEW']"
      ],
      "execution_count": null,
      "outputs": []
    },
    {
      "cell_type": "markdown",
      "metadata": {
        "id": "U1ycDihAni84"
      },
      "source": [
        "## Preprocessing"
      ]
    },
    {
      "cell_type": "code",
      "metadata": {
        "collapsed": true,
        "id": "UO0xC16wni85"
      },
      "source": [
        "#function to remove non-ascii characters\n",
        "def _removeNonAscii(s): return \"\".join(i for i in s if ord(i)<128)"
      ],
      "execution_count": null,
      "outputs": []
    },
    {
      "cell_type": "code",
      "metadata": {
        "collapsed": true,
        "id": "rr6WZWUani87"
      },
      "source": [
        "comments = comments.astype('str')"
      ],
      "execution_count": null,
      "outputs": []
    },
    {
      "cell_type": "code",
      "metadata": {
        "id": "LMx1dbiRni88"
      },
      "source": [
        "#remove non-ascii characters\n",
        "comments = comments.map(lambda x: _removeNonAscii(x))"
      ],
      "execution_count": null,
      "outputs": []
    },
    {
      "cell_type": "code",
      "metadata": {
        "id": "lvNbF--GpJuz",
        "colab": {
          "base_uri": "https://localhost:8080/"
        },
        "outputId": "3e82508d-df9f-4f1f-fc0f-817c7071c9d4"
      },
      "source": [
        "import nltk\n",
        "nltk.download('stopwords')"
      ],
      "execution_count": null,
      "outputs": [
        {
          "output_type": "stream",
          "text": [
            "[nltk_data] Downloading package stopwords to /root/nltk_data...\n",
            "[nltk_data]   Unzipping corpora/stopwords.zip.\n"
          ],
          "name": "stdout"
        },
        {
          "output_type": "execute_result",
          "data": {
            "text/plain": [
              "True"
            ]
          },
          "metadata": {
            "tags": []
          },
          "execution_count": 10
        }
      ]
    },
    {
      "cell_type": "code",
      "metadata": {
        "collapsed": true,
        "id": "3k4GnoiSni88"
      },
      "source": [
        "#get stop words of all languages\n",
        "STOPWORDS_DICT = {lang: set(nltk.corpus.stopwords.words(lang)) for lang in nltk.corpus.stopwords.fileids()}"
      ],
      "execution_count": null,
      "outputs": []
    },
    {
      "cell_type": "code",
      "metadata": {
        "collapsed": true,
        "id": "BL0QMwjLni89"
      },
      "source": [
        "#function to detect language based on # of stop words for particular language\n",
        "def get_language(text):\n",
        "    words = set(nltk.wordpunct_tokenize(text.lower()))\n",
        "    lang = max(((lang, len(words & stopwords)) for lang, stopwords in STOPWORDS_DICT.items()), key = lambda x: x[1])[0]\n",
        "    if lang == 'english':\n",
        "        return True\n",
        "    else:\n",
        "        return False"
      ],
      "execution_count": null,
      "outputs": []
    },
    {
      "cell_type": "code",
      "metadata": {
        "scrolled": true,
        "id": "sjur_L7Tni8-"
      },
      "source": [
        "#filter for only english comments\n",
        "eng_comments=comments[comments.apply(get_language)]"
      ],
      "execution_count": null,
      "outputs": []
    },
    {
      "cell_type": "code",
      "metadata": {
        "id": "g7BtHM59ni8_",
        "colab": {
          "base_uri": "https://localhost:8080/"
        },
        "outputId": "110c9a5e-f73a-4029-8291-0b15cf7eb90f"
      },
      "source": [
        "eng_comments.head()"
      ],
      "execution_count": null,
      "outputs": [
        {
          "output_type": "execute_result",
          "data": {
            "text/plain": [
              "0     cowinapp not ios aarogyasetu user register moh...\n",
              "10    swarraj nadjanadika sunetrac registration aaro...\n",
              "20    covidvaccine registration open senior citizen ...\n",
              "21        sivismyname not function try aarogya setu app\n",
              "23    rupagulab successfully small pox vaccine polio...\n",
              "Name: REVIEW, dtype: object"
            ]
          },
          "metadata": {
            "tags": []
          },
          "execution_count": 14
        }
      ]
    },
    {
      "cell_type": "code",
      "metadata": {
        "collapsed": true,
        "id": "Q7yQxS8Mni8_"
      },
      "source": [
        "#drop duplicates\n",
        "eng_comments.drop_duplicates(inplace=True)"
      ],
      "execution_count": null,
      "outputs": []
    },
    {
      "cell_type": "code",
      "metadata": {
        "collapsed": true,
        "id": "FYemLOVini9A"
      },
      "source": [
        "#load spacy\n",
        "nlp = spacy.load('en')"
      ],
      "execution_count": null,
      "outputs": []
    },
    {
      "cell_type": "code",
      "metadata": {
        "collapsed": true,
        "id": "d_YvG9NBni9A"
      },
      "source": [
        "#function to clean and lemmatize comments\n",
        "def clean_comments(text):\n",
        "    #remove punctuations\n",
        "    regex = re.compile('[' + re.escape(string.punctuation) + '\\\\r\\\\t\\\\n]')\n",
        "    nopunct = regex.sub(\" \", str(text))\n",
        "    #use spacy to lemmatize comments\n",
        "    doc = nlp(nopunct, disable=['parser','ner'])\n",
        "    lemma = [token.lemma_ for token in doc]\n",
        "    return lemma"
      ],
      "execution_count": null,
      "outputs": []
    },
    {
      "cell_type": "code",
      "metadata": {
        "scrolled": true,
        "id": "FOojR9Dnni9A"
      },
      "source": [
        "#apply function to clean and lemmatize comments\n",
        "lemmatized = eng_comments.map(clean_comments)"
      ],
      "execution_count": null,
      "outputs": []
    },
    {
      "cell_type": "code",
      "metadata": {
        "id": "-dhpmiQOni9A"
      },
      "source": [
        "12#make sure to lowercase everything\n",
        "lemmatized = lemmatized.map(lambda x: [word.lower() for word in x])"
      ],
      "execution_count": null,
      "outputs": []
    },
    {
      "cell_type": "code",
      "metadata": {
        "id": "ofm9zuqzni9B",
        "colab": {
          "base_uri": "https://localhost:8080/"
        },
        "outputId": "889f6526-7f4a-4d90-e461-fd32c1f9447f"
      },
      "source": [
        "lemmatized.head()"
      ],
      "execution_count": null,
      "outputs": [
        {
          "output_type": "execute_result",
          "data": {
            "text/plain": [
              "0     [cowinapp, not, ios, aarogyasetu, user, regist...\n",
              "10    [swarraj, nadjanadika, sunetrac, registration,...\n",
              "20    [covidvaccine, registration, open, senior, cit...\n",
              "21    [sivismyname, not, function, try, aarogya, set...\n",
              "23    [rupagulab, successfully, small, pox, vaccine,...\n",
              "Name: REVIEW, dtype: object"
            ]
          },
          "metadata": {
            "tags": []
          },
          "execution_count": 20
        }
      ]
    },
    {
      "cell_type": "code",
      "metadata": {
        "collapsed": true,
        "id": "5ZIWxVGini9B"
      },
      "source": [
        "#turn all comments' tokens into one single list\n",
        "unlist_comments = [item for items in lemmatized for item in items]"
      ],
      "execution_count": null,
      "outputs": []
    },
    {
      "cell_type": "markdown",
      "metadata": {
        "id": "oPT7iVNIni9B"
      },
      "source": [
        "## Initialize NLTK's Bigrams/Trigrams Finder"
      ]
    },
    {
      "cell_type": "code",
      "metadata": {
        "collapsed": true,
        "id": "2csx2O4pni9C"
      },
      "source": [
        "bigrams = nltk.collocations.BigramAssocMeasures()\n",
        "trigrams = nltk.collocations.TrigramAssocMeasures()"
      ],
      "execution_count": null,
      "outputs": []
    },
    {
      "cell_type": "code",
      "metadata": {
        "collapsed": true,
        "id": "xASd0xRZni9C"
      },
      "source": [
        "bigramFinder = nltk.collocations.BigramCollocationFinder.from_words(unlist_comments)\n",
        "trigramFinder = nltk.collocations.TrigramCollocationFinder.from_words(unlist_comments)"
      ],
      "execution_count": null,
      "outputs": []
    },
    {
      "cell_type": "markdown",
      "metadata": {
        "id": "jmli86r9ni9C"
      },
      "source": [
        "## 1. Counting Frequencies of Adjacent Words\n",
        "- Main idea: simply order by frequency\n",
        "- Issues: too sensitive to very frequent pairs and pronouns/articles/prepositions come up often\n",
        "- Solution: filter for only adjectives and nouns"
      ]
    },
    {
      "cell_type": "code",
      "metadata": {
        "id": "2ib4tHymni9C"
      },
      "source": [
        "bigram_freq = bigramFinder.ngram_fd.items()"
      ],
      "execution_count": null,
      "outputs": []
    },
    {
      "cell_type": "code",
      "metadata": {
        "id": "tf9YhB_Rni9D"
      },
      "source": [
        "bigramFreqTable = pd.DataFrame(list(bigram_freq), columns=['bigram','freq']).sort_values(by='freq', ascending=False)"
      ],
      "execution_count": null,
      "outputs": []
    },
    {
      "cell_type": "code",
      "metadata": {
        "id": "hDEGTX7Gni9D",
        "colab": {
          "base_uri": "https://localhost:8080/",
          "height": 204
        },
        "outputId": "4cfb4cfd-9f9d-4b4c-b49a-4a124d8f39f6"
      },
      "source": [
        "bigramFreqTable.head().reset_index(drop=True)"
      ],
      "execution_count": null,
      "outputs": [
        {
          "output_type": "execute_result",
          "data": {
            "text/html": [
              "<div>\n",
              "<style scoped>\n",
              "    .dataframe tbody tr th:only-of-type {\n",
              "        vertical-align: middle;\n",
              "    }\n",
              "\n",
              "    .dataframe tbody tr th {\n",
              "        vertical-align: top;\n",
              "    }\n",
              "\n",
              "    .dataframe thead th {\n",
              "        text-align: right;\n",
              "    }\n",
              "</style>\n",
              "<table border=\"1\" class=\"dataframe\">\n",
              "  <thead>\n",
              "    <tr style=\"text-align: right;\">\n",
              "      <th></th>\n",
              "      <th>bigram</th>\n",
              "      <th>freq</th>\n",
              "    </tr>\n",
              "  </thead>\n",
              "  <tbody>\n",
              "    <tr>\n",
              "      <th>0</th>\n",
              "      <td>(aarogya, setu)</td>\n",
              "      <td>10069</td>\n",
              "    </tr>\n",
              "    <tr>\n",
              "      <th>1</th>\n",
              "      <td>(setu, app)</td>\n",
              "      <td>5673</td>\n",
              "    </tr>\n",
              "    <tr>\n",
              "      <th>2</th>\n",
              "      <td>(app, not)</td>\n",
              "      <td>1368</td>\n",
              "    </tr>\n",
              "    <tr>\n",
              "      <th>3</th>\n",
              "      <td>(aarogyasetu, app)</td>\n",
              "      <td>1028</td>\n",
              "    </tr>\n",
              "    <tr>\n",
              "      <th>4</th>\n",
              "      <td>(download, aarogya)</td>\n",
              "      <td>959</td>\n",
              "    </tr>\n",
              "  </tbody>\n",
              "</table>\n",
              "</div>"
            ],
            "text/plain": [
              "                bigram   freq\n",
              "0      (aarogya, setu)  10069\n",
              "1          (setu, app)   5673\n",
              "2           (app, not)   1368\n",
              "3   (aarogyasetu, app)   1028\n",
              "4  (download, aarogya)    959"
            ]
          },
          "metadata": {
            "tags": []
          },
          "execution_count": 26
        }
      ]
    },
    {
      "cell_type": "code",
      "metadata": {
        "id": "YYX5D3T0ni9D",
        "colab": {
          "base_uri": "https://localhost:8080/",
          "height": 359
        },
        "outputId": "ecce32b2-da4a-4feb-c9e9-cf010bf7d0c7"
      },
      "source": [
        "bigramFreqTable[:10]"
      ],
      "execution_count": null,
      "outputs": [
        {
          "output_type": "execute_result",
          "data": {
            "text/html": [
              "<div>\n",
              "<style scoped>\n",
              "    .dataframe tbody tr th:only-of-type {\n",
              "        vertical-align: middle;\n",
              "    }\n",
              "\n",
              "    .dataframe tbody tr th {\n",
              "        vertical-align: top;\n",
              "    }\n",
              "\n",
              "    .dataframe thead th {\n",
              "        text-align: right;\n",
              "    }\n",
              "</style>\n",
              "<table border=\"1\" class=\"dataframe\">\n",
              "  <thead>\n",
              "    <tr style=\"text-align: right;\">\n",
              "      <th></th>\n",
              "      <th>bigram</th>\n",
              "      <th>freq</th>\n",
              "    </tr>\n",
              "  </thead>\n",
              "  <tbody>\n",
              "    <tr>\n",
              "      <th>12</th>\n",
              "      <td>(aarogya, setu)</td>\n",
              "      <td>10069</td>\n",
              "    </tr>\n",
              "    <tr>\n",
              "      <th>48</th>\n",
              "      <td>(setu, app)</td>\n",
              "      <td>5673</td>\n",
              "    </tr>\n",
              "    <tr>\n",
              "      <th>64</th>\n",
              "      <td>(app, not)</td>\n",
              "      <td>1368</td>\n",
              "    </tr>\n",
              "    <tr>\n",
              "      <th>70</th>\n",
              "      <td>(aarogyasetu, app)</td>\n",
              "      <td>1028</td>\n",
              "    </tr>\n",
              "    <tr>\n",
              "      <th>574</th>\n",
              "      <td>(download, aarogya)</td>\n",
              "      <td>959</td>\n",
              "    </tr>\n",
              "    <tr>\n",
              "      <th>13</th>\n",
              "      <td>(setu, not)</td>\n",
              "      <td>734</td>\n",
              "    </tr>\n",
              "    <tr>\n",
              "      <th>2994</th>\n",
              "      <td>(use, aarogya)</td>\n",
              "      <td>400</td>\n",
              "    </tr>\n",
              "    <tr>\n",
              "      <th>6</th>\n",
              "      <td>(mohfw, india)</td>\n",
              "      <td>390</td>\n",
              "    </tr>\n",
              "    <tr>\n",
              "      <th>925</th>\n",
              "      <td>(not, work)</td>\n",
              "      <td>371</td>\n",
              "    </tr>\n",
              "    <tr>\n",
              "      <th>540</th>\n",
              "      <td>(not, aarogya)</td>\n",
              "      <td>367</td>\n",
              "    </tr>\n",
              "  </tbody>\n",
              "</table>\n",
              "</div>"
            ],
            "text/plain": [
              "                   bigram   freq\n",
              "12        (aarogya, setu)  10069\n",
              "48            (setu, app)   5673\n",
              "64             (app, not)   1368\n",
              "70     (aarogyasetu, app)   1028\n",
              "574   (download, aarogya)    959\n",
              "13            (setu, not)    734\n",
              "2994       (use, aarogya)    400\n",
              "6          (mohfw, india)    390\n",
              "925           (not, work)    371\n",
              "540        (not, aarogya)    367"
            ]
          },
          "metadata": {
            "tags": []
          },
          "execution_count": 27
        }
      ]
    },
    {
      "cell_type": "code",
      "metadata": {
        "id": "gC6TOsiGni9K"
      },
      "source": [
        "#get english stopwords\n",
        "en_stopwords = set(stopwords.words('english'))"
      ],
      "execution_count": null,
      "outputs": []
    },
    {
      "cell_type": "code",
      "metadata": {
        "id": "ykB8DZWrni9K"
      },
      "source": [
        "#function to filter for ADJ/NN bigrams\n",
        "def rightTypes(ngram):\n",
        "    if '-pron-' in ngram or '' in ngram or ' 'in ngram or 't' in ngram:\n",
        "        return False\n",
        "    for word in ngram:\n",
        "        if word in en_stopwords:\n",
        "            return False\n",
        "    acceptable_types = ('JJ', 'JJR', 'JJS', 'NN', 'NNS', 'NNP', 'NNPS')\n",
        "    second_type = ('NN', 'NNS', 'NNP', 'NNPS')\n",
        "    tags = nltk.pos_tag(ngram)\n",
        "    if tags[0][1] in acceptable_types and tags[1][1] in second_type:\n",
        "        return True\n",
        "    else:\n",
        "        return False"
      ],
      "execution_count": null,
      "outputs": []
    },
    {
      "cell_type": "code",
      "metadata": {
        "id": "RfdXR8l-2Br-",
        "colab": {
          "base_uri": "https://localhost:8080/"
        },
        "outputId": "88abe1ad-23db-4983-aa60-b0db6cf56cad"
      },
      "source": [
        "import nltk\n",
        "nltk.download('averaged_perceptron_tagger')"
      ],
      "execution_count": null,
      "outputs": [
        {
          "output_type": "stream",
          "text": [
            "[nltk_data] Downloading package averaged_perceptron_tagger to\n",
            "[nltk_data]     /root/nltk_data...\n",
            "[nltk_data]   Unzipping taggers/averaged_perceptron_tagger.zip.\n"
          ],
          "name": "stdout"
        },
        {
          "output_type": "execute_result",
          "data": {
            "text/plain": [
              "True"
            ]
          },
          "metadata": {
            "tags": []
          },
          "execution_count": 30
        }
      ]
    },
    {
      "cell_type": "code",
      "metadata": {
        "id": "jM-qU1L0ni9L"
      },
      "source": [
        "#filter bigrams\n",
        "filtered_bi = bigramFreqTable[bigramFreqTable.bigram.map(lambda x: rightTypes(x))]"
      ],
      "execution_count": null,
      "outputs": []
    },
    {
      "cell_type": "code",
      "metadata": {
        "id": "7ezKKEOvni9L",
        "colab": {
          "base_uri": "https://localhost:8080/",
          "height": 359
        },
        "outputId": "a19663fe-8459-4b92-ea19-e0ca10b8212e"
      },
      "source": [
        "filtered_bi[:10]"
      ],
      "execution_count": null,
      "outputs": [
        {
          "output_type": "execute_result",
          "data": {
            "text/html": [
              "<div>\n",
              "<style scoped>\n",
              "    .dataframe tbody tr th:only-of-type {\n",
              "        vertical-align: middle;\n",
              "    }\n",
              "\n",
              "    .dataframe tbody tr th {\n",
              "        vertical-align: top;\n",
              "    }\n",
              "\n",
              "    .dataframe thead th {\n",
              "        text-align: right;\n",
              "    }\n",
              "</style>\n",
              "<table border=\"1\" class=\"dataframe\">\n",
              "  <thead>\n",
              "    <tr style=\"text-align: right;\">\n",
              "      <th></th>\n",
              "      <th>bigram</th>\n",
              "      <th>freq</th>\n",
              "    </tr>\n",
              "  </thead>\n",
              "  <tbody>\n",
              "    <tr>\n",
              "      <th>12</th>\n",
              "      <td>(aarogya, setu)</td>\n",
              "      <td>10069</td>\n",
              "    </tr>\n",
              "    <tr>\n",
              "      <th>48</th>\n",
              "      <td>(setu, app)</td>\n",
              "      <td>5673</td>\n",
              "    </tr>\n",
              "    <tr>\n",
              "      <th>70</th>\n",
              "      <td>(aarogyasetu, app)</td>\n",
              "      <td>1028</td>\n",
              "    </tr>\n",
              "    <tr>\n",
              "      <th>574</th>\n",
              "      <td>(download, aarogya)</td>\n",
              "      <td>959</td>\n",
              "    </tr>\n",
              "    <tr>\n",
              "      <th>2994</th>\n",
              "      <td>(use, aarogya)</td>\n",
              "      <td>400</td>\n",
              "    </tr>\n",
              "    <tr>\n",
              "      <th>1291</th>\n",
              "      <td>(app, httpst)</td>\n",
              "      <td>340</td>\n",
              "    </tr>\n",
              "    <tr>\n",
              "      <th>1600</th>\n",
              "      <td>(contact, trace)</td>\n",
              "      <td>326</td>\n",
              "    </tr>\n",
              "    <tr>\n",
              "      <th>439</th>\n",
              "      <td>(self, declaration)</td>\n",
              "      <td>298</td>\n",
              "    </tr>\n",
              "    <tr>\n",
              "      <th>3300</th>\n",
              "      <td>(smart, phone)</td>\n",
              "      <td>291</td>\n",
              "    </tr>\n",
              "    <tr>\n",
              "      <th>440</th>\n",
              "      <td>(declaration, form)</td>\n",
              "      <td>288</td>\n",
              "    </tr>\n",
              "  </tbody>\n",
              "</table>\n",
              "</div>"
            ],
            "text/plain": [
              "                   bigram   freq\n",
              "12        (aarogya, setu)  10069\n",
              "48            (setu, app)   5673\n",
              "70     (aarogyasetu, app)   1028\n",
              "574   (download, aarogya)    959\n",
              "2994       (use, aarogya)    400\n",
              "1291        (app, httpst)    340\n",
              "1600     (contact, trace)    326\n",
              "439   (self, declaration)    298\n",
              "3300       (smart, phone)    291\n",
              "440   (declaration, form)    288"
            ]
          },
          "metadata": {
            "tags": []
          },
          "execution_count": 32
        }
      ]
    },
    {
      "cell_type": "code",
      "metadata": {
        "collapsed": true,
        "id": "74Mxrxvsni9L"
      },
      "source": [
        "trigram_freq = trigramFinder.ngram_fd.items()"
      ],
      "execution_count": null,
      "outputs": []
    },
    {
      "cell_type": "code",
      "metadata": {
        "collapsed": true,
        "id": "0uSCVdFRni9L"
      },
      "source": [
        "trigramFreqTable = pd.DataFrame(list(trigram_freq), columns=['trigram','freq']).sort_values(by='freq', ascending=False)"
      ],
      "execution_count": null,
      "outputs": []
    },
    {
      "cell_type": "code",
      "metadata": {
        "id": "5GKHjdPhni9M",
        "colab": {
          "base_uri": "https://localhost:8080/",
          "height": 204
        },
        "outputId": "5d87dc26-09fd-4a7b-8d5d-eb4a14130f31"
      },
      "source": [
        "trigramFreqTable.head().reset_index(drop=True)"
      ],
      "execution_count": null,
      "outputs": [
        {
          "output_type": "execute_result",
          "data": {
            "text/html": [
              "<div>\n",
              "<style scoped>\n",
              "    .dataframe tbody tr th:only-of-type {\n",
              "        vertical-align: middle;\n",
              "    }\n",
              "\n",
              "    .dataframe tbody tr th {\n",
              "        vertical-align: top;\n",
              "    }\n",
              "\n",
              "    .dataframe thead th {\n",
              "        text-align: right;\n",
              "    }\n",
              "</style>\n",
              "<table border=\"1\" class=\"dataframe\">\n",
              "  <thead>\n",
              "    <tr style=\"text-align: right;\">\n",
              "      <th></th>\n",
              "      <th>trigram</th>\n",
              "      <th>freq</th>\n",
              "    </tr>\n",
              "  </thead>\n",
              "  <tbody>\n",
              "    <tr>\n",
              "      <th>0</th>\n",
              "      <td>(aarogya, setu, app)</td>\n",
              "      <td>5588</td>\n",
              "    </tr>\n",
              "    <tr>\n",
              "      <th>1</th>\n",
              "      <td>(download, aarogya, setu)</td>\n",
              "      <td>959</td>\n",
              "    </tr>\n",
              "    <tr>\n",
              "      <th>2</th>\n",
              "      <td>(setu, app, not)</td>\n",
              "      <td>836</td>\n",
              "    </tr>\n",
              "    <tr>\n",
              "      <th>3</th>\n",
              "      <td>(aarogya, setu, not)</td>\n",
              "      <td>716</td>\n",
              "    </tr>\n",
              "    <tr>\n",
              "      <th>4</th>\n",
              "      <td>(use, aarogya, setu)</td>\n",
              "      <td>399</td>\n",
              "    </tr>\n",
              "  </tbody>\n",
              "</table>\n",
              "</div>"
            ],
            "text/plain": [
              "                     trigram  freq\n",
              "0       (aarogya, setu, app)  5588\n",
              "1  (download, aarogya, setu)   959\n",
              "2           (setu, app, not)   836\n",
              "3       (aarogya, setu, not)   716\n",
              "4       (use, aarogya, setu)   399"
            ]
          },
          "metadata": {
            "tags": []
          },
          "execution_count": 35
        }
      ]
    },
    {
      "cell_type": "code",
      "metadata": {
        "id": "JyunLNoSni9N",
        "colab": {
          "base_uri": "https://localhost:8080/",
          "height": 359
        },
        "outputId": "cb5e789a-2da0-4022-d989-f9c07ce8f64b"
      },
      "source": [
        "trigramFreqTable[:10]"
      ],
      "execution_count": null,
      "outputs": [
        {
          "output_type": "execute_result",
          "data": {
            "text/html": [
              "<div>\n",
              "<style scoped>\n",
              "    .dataframe tbody tr th:only-of-type {\n",
              "        vertical-align: middle;\n",
              "    }\n",
              "\n",
              "    .dataframe tbody tr th {\n",
              "        vertical-align: top;\n",
              "    }\n",
              "\n",
              "    .dataframe thead th {\n",
              "        text-align: right;\n",
              "    }\n",
              "</style>\n",
              "<table border=\"1\" class=\"dataframe\">\n",
              "  <thead>\n",
              "    <tr style=\"text-align: right;\">\n",
              "      <th></th>\n",
              "      <th>trigram</th>\n",
              "      <th>freq</th>\n",
              "    </tr>\n",
              "  </thead>\n",
              "  <tbody>\n",
              "    <tr>\n",
              "      <th>50</th>\n",
              "      <td>(aarogya, setu, app)</td>\n",
              "      <td>5588</td>\n",
              "    </tr>\n",
              "    <tr>\n",
              "      <th>610</th>\n",
              "      <td>(download, aarogya, setu)</td>\n",
              "      <td>959</td>\n",
              "    </tr>\n",
              "    <tr>\n",
              "      <th>67</th>\n",
              "      <td>(setu, app, not)</td>\n",
              "      <td>836</td>\n",
              "    </tr>\n",
              "    <tr>\n",
              "      <th>12</th>\n",
              "      <td>(aarogya, setu, not)</td>\n",
              "      <td>716</td>\n",
              "    </tr>\n",
              "    <tr>\n",
              "      <th>3414</th>\n",
              "      <td>(use, aarogya, setu)</td>\n",
              "      <td>399</td>\n",
              "    </tr>\n",
              "    <tr>\n",
              "      <th>575</th>\n",
              "      <td>(not, aarogya, setu)</td>\n",
              "      <td>364</td>\n",
              "    </tr>\n",
              "    <tr>\n",
              "      <th>3096</th>\n",
              "      <td>(create, aarogya, setu)</td>\n",
              "      <td>274</td>\n",
              "    </tr>\n",
              "    <tr>\n",
              "      <th>466</th>\n",
              "      <td>(self, declaration, form)</td>\n",
              "      <td>248</td>\n",
              "    </tr>\n",
              "    <tr>\n",
              "      <th>8159</th>\n",
              "      <td>(setu, app, mandatory)</td>\n",
              "      <td>223</td>\n",
              "    </tr>\n",
              "    <tr>\n",
              "      <th>24631</th>\n",
              "      <td>(setu, app, help)</td>\n",
              "      <td>207</td>\n",
              "    </tr>\n",
              "  </tbody>\n",
              "</table>\n",
              "</div>"
            ],
            "text/plain": [
              "                         trigram  freq\n",
              "50          (aarogya, setu, app)  5588\n",
              "610    (download, aarogya, setu)   959\n",
              "67              (setu, app, not)   836\n",
              "12          (aarogya, setu, not)   716\n",
              "3414        (use, aarogya, setu)   399\n",
              "575         (not, aarogya, setu)   364\n",
              "3096     (create, aarogya, setu)   274\n",
              "466    (self, declaration, form)   248\n",
              "8159      (setu, app, mandatory)   223\n",
              "24631          (setu, app, help)   207"
            ]
          },
          "metadata": {
            "tags": []
          },
          "execution_count": 36
        }
      ]
    },
    {
      "cell_type": "code",
      "metadata": {
        "collapsed": true,
        "id": "FxyBuHyhni9O"
      },
      "source": [
        "def rightTypesTri(ngram):\n",
        "    if '-pron-' in ngram or '' in ngram or ' 'in ngram or '  ' in ngram or 't' in ngram:\n",
        "        return False\n",
        "    for word in ngram:\n",
        "        if word in en_stopwords:\n",
        "            return False\n",
        "    first_type = ('JJ', 'JJR', 'JJS', 'NN', 'NNS', 'NNP', 'NNPS')\n",
        "    third_type = ('JJ', 'JJR', 'JJS', 'NN', 'NNS', 'NNP', 'NNPS')\n",
        "    tags = nltk.pos_tag(ngram)\n",
        "    if tags[0][1] in first_type and tags[2][1] in third_type:\n",
        "        return True\n",
        "    else:\n",
        "        return False"
      ],
      "execution_count": null,
      "outputs": []
    },
    {
      "cell_type": "code",
      "metadata": {
        "collapsed": true,
        "id": "LjGysCPVni9O"
      },
      "source": [
        "filtered_tri = trigramFreqTable[trigramFreqTable.trigram.map(lambda x: rightTypesTri(x))]"
      ],
      "execution_count": null,
      "outputs": []
    },
    {
      "cell_type": "code",
      "metadata": {
        "id": "JrFc2gprni9O",
        "colab": {
          "base_uri": "https://localhost:8080/",
          "height": 359
        },
        "outputId": "4c081d0b-2bdc-4c70-e023-4595ec89b492"
      },
      "source": [
        "filtered_tri[:10]"
      ],
      "execution_count": null,
      "outputs": [
        {
          "output_type": "execute_result",
          "data": {
            "text/html": [
              "<div>\n",
              "<style scoped>\n",
              "    .dataframe tbody tr th:only-of-type {\n",
              "        vertical-align: middle;\n",
              "    }\n",
              "\n",
              "    .dataframe tbody tr th {\n",
              "        vertical-align: top;\n",
              "    }\n",
              "\n",
              "    .dataframe thead th {\n",
              "        text-align: right;\n",
              "    }\n",
              "</style>\n",
              "<table border=\"1\" class=\"dataframe\">\n",
              "  <thead>\n",
              "    <tr style=\"text-align: right;\">\n",
              "      <th></th>\n",
              "      <th>trigram</th>\n",
              "      <th>freq</th>\n",
              "    </tr>\n",
              "  </thead>\n",
              "  <tbody>\n",
              "    <tr>\n",
              "      <th>50</th>\n",
              "      <td>(aarogya, setu, app)</td>\n",
              "      <td>5588</td>\n",
              "    </tr>\n",
              "    <tr>\n",
              "      <th>610</th>\n",
              "      <td>(download, aarogya, setu)</td>\n",
              "      <td>959</td>\n",
              "    </tr>\n",
              "    <tr>\n",
              "      <th>3414</th>\n",
              "      <td>(use, aarogya, setu)</td>\n",
              "      <td>399</td>\n",
              "    </tr>\n",
              "    <tr>\n",
              "      <th>466</th>\n",
              "      <td>(self, declaration, form)</td>\n",
              "      <td>248</td>\n",
              "    </tr>\n",
              "    <tr>\n",
              "      <th>8159</th>\n",
              "      <td>(setu, app, mandatory)</td>\n",
              "      <td>223</td>\n",
              "    </tr>\n",
              "    <tr>\n",
              "      <th>24631</th>\n",
              "      <td>(setu, app, help)</td>\n",
              "      <td>207</td>\n",
              "    </tr>\n",
              "    <tr>\n",
              "      <th>1080</th>\n",
              "      <td>(install, aarogya, setu)</td>\n",
              "      <td>204</td>\n",
              "    </tr>\n",
              "    <tr>\n",
              "      <th>1761</th>\n",
              "      <td>(contact, trace, app)</td>\n",
              "      <td>184</td>\n",
              "    </tr>\n",
              "    <tr>\n",
              "      <th>41401</th>\n",
              "      <td>(breach, aarogya, setu)</td>\n",
              "      <td>181</td>\n",
              "    </tr>\n",
              "    <tr>\n",
              "      <th>1406</th>\n",
              "      <td>(setu, app, httpst)</td>\n",
              "      <td>172</td>\n",
              "    </tr>\n",
              "  </tbody>\n",
              "</table>\n",
              "</div>"
            ],
            "text/plain": [
              "                         trigram  freq\n",
              "50          (aarogya, setu, app)  5588\n",
              "610    (download, aarogya, setu)   959\n",
              "3414        (use, aarogya, setu)   399\n",
              "466    (self, declaration, form)   248\n",
              "8159      (setu, app, mandatory)   223\n",
              "24631          (setu, app, help)   207\n",
              "1080    (install, aarogya, setu)   204\n",
              "1761       (contact, trace, app)   184\n",
              "41401    (breach, aarogya, setu)   181\n",
              "1406         (setu, app, httpst)   172"
            ]
          },
          "metadata": {
            "tags": []
          },
          "execution_count": 39
        }
      ]
    },
    {
      "cell_type": "code",
      "metadata": {
        "id": "D0uRb0cani9R"
      },
      "source": [
        "freq_bi = filtered_bi[:20].bigram.values"
      ],
      "execution_count": null,
      "outputs": []
    },
    {
      "cell_type": "code",
      "metadata": {
        "id": "cb8lYlIhni9R"
      },
      "source": [
        "freq_tri = filtered_tri[:20].trigram.values"
      ],
      "execution_count": null,
      "outputs": []
    },
    {
      "cell_type": "markdown",
      "metadata": {
        "id": "JCn7JbuIni9R"
      },
      "source": [
        "## 2. PMI"
      ]
    },
    {
      "cell_type": "code",
      "metadata": {
        "id": "4CHEhbQRni9R"
      },
      "source": [
        "bigramFinder.apply_freq_filter(20)"
      ],
      "execution_count": null,
      "outputs": []
    },
    {
      "cell_type": "code",
      "metadata": {
        "id": "dLuaneE7ni9T"
      },
      "source": [
        "bigramPMITable = pd.DataFrame(list(bigramFinder.score_ngrams(bigrams.pmi)), columns=['bigram','PMI']).sort_values(by='PMI', ascending=False)"
      ],
      "execution_count": null,
      "outputs": []
    },
    {
      "cell_type": "code",
      "metadata": {
        "id": "6enNSqU_ni9T",
        "colab": {
          "base_uri": "https://localhost:8080/",
          "height": 359
        },
        "outputId": "f594d192-3a43-40d0-ffe5-dd3945cf1313"
      },
      "source": [
        "bigramPMITable[:10]"
      ],
      "execution_count": null,
      "outputs": [
        {
          "output_type": "execute_result",
          "data": {
            "text/html": [
              "<div>\n",
              "<style scoped>\n",
              "    .dataframe tbody tr th:only-of-type {\n",
              "        vertical-align: middle;\n",
              "    }\n",
              "\n",
              "    .dataframe tbody tr th {\n",
              "        vertical-align: top;\n",
              "    }\n",
              "\n",
              "    .dataframe thead th {\n",
              "        text-align: right;\n",
              "    }\n",
              "</style>\n",
              "<table border=\"1\" class=\"dataframe\">\n",
              "  <thead>\n",
              "    <tr style=\"text-align: right;\">\n",
              "      <th></th>\n",
              "      <th>bigram</th>\n",
              "      <th>PMI</th>\n",
              "    </tr>\n",
              "  </thead>\n",
              "  <tbody>\n",
              "    <tr>\n",
              "      <th>0</th>\n",
              "      <td>(cyberbullye, cyberthreat)</td>\n",
              "      <td>13.573951</td>\n",
              "    </tr>\n",
              "    <tr>\n",
              "      <th>1</th>\n",
              "      <td>(cyberattack, cyberbullye)</td>\n",
              "      <td>13.442707</td>\n",
              "    </tr>\n",
              "    <tr>\n",
              "      <th>2</th>\n",
              "      <td>(cybercrime, cyberattack)</td>\n",
              "      <td>13.375593</td>\n",
              "    </tr>\n",
              "    <tr>\n",
              "      <th>3</th>\n",
              "      <td>(tik, tok)</td>\n",
              "      <td>13.322413</td>\n",
              "    </tr>\n",
              "    <tr>\n",
              "      <th>4</th>\n",
              "      <td>(chairman, empower)</td>\n",
              "      <td>13.243803</td>\n",
              "    </tr>\n",
              "    <tr>\n",
              "      <th>5</th>\n",
              "      <td>(powerful, companion)</td>\n",
              "      <td>12.756815</td>\n",
              "    </tr>\n",
              "    <tr>\n",
              "      <th>6</th>\n",
              "      <td>(niti, aayog)</td>\n",
              "      <td>12.689701</td>\n",
              "    </tr>\n",
              "    <tr>\n",
              "      <th>7</th>\n",
              "      <td>(datasecurity, dataprivacy)</td>\n",
              "      <td>12.644341</td>\n",
              "    </tr>\n",
              "    <tr>\n",
              "      <th>8</th>\n",
              "      <td>(architecture, indulge)</td>\n",
              "      <td>12.637798</td>\n",
              "    </tr>\n",
              "    <tr>\n",
              "      <th>9</th>\n",
              "      <td>(dc, gurugram)</td>\n",
              "      <td>12.566862</td>\n",
              "    </tr>\n",
              "  </tbody>\n",
              "</table>\n",
              "</div>"
            ],
            "text/plain": [
              "                        bigram        PMI\n",
              "0   (cyberbullye, cyberthreat)  13.573951\n",
              "1   (cyberattack, cyberbullye)  13.442707\n",
              "2    (cybercrime, cyberattack)  13.375593\n",
              "3                   (tik, tok)  13.322413\n",
              "4          (chairman, empower)  13.243803\n",
              "5        (powerful, companion)  12.756815\n",
              "6                (niti, aayog)  12.689701\n",
              "7  (datasecurity, dataprivacy)  12.644341\n",
              "8      (architecture, indulge)  12.637798\n",
              "9               (dc, gurugram)  12.566862"
            ]
          },
          "metadata": {
            "tags": []
          },
          "execution_count": 44
        }
      ]
    },
    {
      "cell_type": "code",
      "metadata": {
        "collapsed": true,
        "id": "Nw-PpDytni9U"
      },
      "source": [
        "trigramFinder.apply_freq_filter(20)"
      ],
      "execution_count": null,
      "outputs": []
    },
    {
      "cell_type": "code",
      "metadata": {
        "collapsed": true,
        "id": "cQPL12ltni9U"
      },
      "source": [
        "trigramPMITable = pd.DataFrame(list(trigramFinder.score_ngrams(trigrams.pmi)), columns=['trigram','PMI']).sort_values(by='PMI', ascending=False)"
      ],
      "execution_count": null,
      "outputs": []
    },
    {
      "cell_type": "code",
      "metadata": {
        "id": "CfW-sBaOni9U",
        "colab": {
          "base_uri": "https://localhost:8080/",
          "height": 359
        },
        "outputId": "2ec77f95-3662-4496-e8c0-7c84d66ffb23"
      },
      "source": [
        "trigramPMITable[:10]"
      ],
      "execution_count": null,
      "outputs": [
        {
          "output_type": "execute_result",
          "data": {
            "text/html": [
              "<div>\n",
              "<style scoped>\n",
              "    .dataframe tbody tr th:only-of-type {\n",
              "        vertical-align: middle;\n",
              "    }\n",
              "\n",
              "    .dataframe tbody tr th {\n",
              "        vertical-align: top;\n",
              "    }\n",
              "\n",
              "    .dataframe thead th {\n",
              "        text-align: right;\n",
              "    }\n",
              "</style>\n",
              "<table border=\"1\" class=\"dataframe\">\n",
              "  <thead>\n",
              "    <tr style=\"text-align: right;\">\n",
              "      <th></th>\n",
              "      <th>trigram</th>\n",
              "      <th>PMI</th>\n",
              "    </tr>\n",
              "  </thead>\n",
              "  <tbody>\n",
              "    <tr>\n",
              "      <th>0</th>\n",
              "      <td>(cyberattack, cyberbullye, cyberthreat)</td>\n",
              "      <td>27.016658</td>\n",
              "    </tr>\n",
              "    <tr>\n",
              "      <th>1</th>\n",
              "      <td>(cybercrime, cyberattack, cyberbullye)</td>\n",
              "      <td>26.949544</td>\n",
              "    </tr>\n",
              "    <tr>\n",
              "      <th>2</th>\n",
              "      <td>(chairman, empower, group)</td>\n",
              "      <td>25.255875</td>\n",
              "    </tr>\n",
              "    <tr>\n",
              "      <th>3</th>\n",
              "      <td>(cybersecurity, cybercrime, cyberattack)</td>\n",
              "      <td>25.254399</td>\n",
              "    </tr>\n",
              "    <tr>\n",
              "      <th>4</th>\n",
              "      <td>(dataprivacy, cybersecurity, cybercrime)</td>\n",
              "      <td>24.456033</td>\n",
              "    </tr>\n",
              "    <tr>\n",
              "      <th>5</th>\n",
              "      <td>(datasecurity, dataprivacy, cybersecurity)</td>\n",
              "      <td>24.452757</td>\n",
              "    </tr>\n",
              "    <tr>\n",
              "      <th>6</th>\n",
              "      <td>(ravi, shankar, prasad)</td>\n",
              "      <td>24.423183</td>\n",
              "    </tr>\n",
              "    <tr>\n",
              "      <th>7</th>\n",
              "      <td>(powerful, companion, protect)</td>\n",
              "      <td>23.356762</td>\n",
              "    </tr>\n",
              "    <tr>\n",
              "      <th>8</th>\n",
              "      <td>(hardeep, singh, puri)</td>\n",
              "      <td>22.759892</td>\n",
              "    </tr>\n",
              "    <tr>\n",
              "      <th>9</th>\n",
              "      <td>(data, datasecurity, dataprivacy)</td>\n",
              "      <td>22.676034</td>\n",
              "    </tr>\n",
              "  </tbody>\n",
              "</table>\n",
              "</div>"
            ],
            "text/plain": [
              "                                      trigram        PMI\n",
              "0     (cyberattack, cyberbullye, cyberthreat)  27.016658\n",
              "1      (cybercrime, cyberattack, cyberbullye)  26.949544\n",
              "2                  (chairman, empower, group)  25.255875\n",
              "3    (cybersecurity, cybercrime, cyberattack)  25.254399\n",
              "4    (dataprivacy, cybersecurity, cybercrime)  24.456033\n",
              "5  (datasecurity, dataprivacy, cybersecurity)  24.452757\n",
              "6                     (ravi, shankar, prasad)  24.423183\n",
              "7              (powerful, companion, protect)  23.356762\n",
              "8                      (hardeep, singh, puri)  22.759892\n",
              "9           (data, datasecurity, dataprivacy)  22.676034"
            ]
          },
          "metadata": {
            "tags": []
          },
          "execution_count": 47
        }
      ]
    },
    {
      "cell_type": "code",
      "metadata": {
        "id": "ZsHJ7Jemni9U"
      },
      "source": [
        "pmi_bi = bigramPMITable[:20].bigram.values"
      ],
      "execution_count": null,
      "outputs": []
    },
    {
      "cell_type": "code",
      "metadata": {
        "collapsed": true,
        "id": "XpF1sPWgni9Y"
      },
      "source": [
        "pmi_tri = trigramPMITable[:20].trigram.values"
      ],
      "execution_count": null,
      "outputs": []
    },
    {
      "cell_type": "markdown",
      "metadata": {
        "id": "eUDeE6CSni9Y"
      },
      "source": [
        "## 3. t-test"
      ]
    },
    {
      "cell_type": "code",
      "metadata": {
        "id": "fD0755r0ni9Y"
      },
      "source": [
        "bigramTtable = pd.DataFrame(list(bigramFinder.score_ngrams(bigrams.student_t)), columns=['bigram','t']).sort_values(by='t', ascending=False)"
      ],
      "execution_count": null,
      "outputs": []
    },
    {
      "cell_type": "code",
      "metadata": {
        "id": "btm_ynzpni9Z",
        "colab": {
          "base_uri": "https://localhost:8080/",
          "height": 204
        },
        "outputId": "998bc0b3-ed2a-4764-ce69-ba899823b35c"
      },
      "source": [
        "bigramTtable.head()"
      ],
      "execution_count": null,
      "outputs": [
        {
          "output_type": "execute_result",
          "data": {
            "text/html": [
              "<div>\n",
              "<style scoped>\n",
              "    .dataframe tbody tr th:only-of-type {\n",
              "        vertical-align: middle;\n",
              "    }\n",
              "\n",
              "    .dataframe tbody tr th {\n",
              "        vertical-align: top;\n",
              "    }\n",
              "\n",
              "    .dataframe thead th {\n",
              "        text-align: right;\n",
              "    }\n",
              "</style>\n",
              "<table border=\"1\" class=\"dataframe\">\n",
              "  <thead>\n",
              "    <tr style=\"text-align: right;\">\n",
              "      <th></th>\n",
              "      <th>bigram</th>\n",
              "      <th>t</th>\n",
              "    </tr>\n",
              "  </thead>\n",
              "  <tbody>\n",
              "    <tr>\n",
              "      <th>0</th>\n",
              "      <td>(aarogya, setu)</td>\n",
              "      <td>96.265038</td>\n",
              "    </tr>\n",
              "    <tr>\n",
              "      <th>1</th>\n",
              "      <td>(setu, app)</td>\n",
              "      <td>70.045601</td>\n",
              "    </tr>\n",
              "    <tr>\n",
              "      <th>2</th>\n",
              "      <td>(aarogyasetu, app)</td>\n",
              "      <td>28.682156</td>\n",
              "    </tr>\n",
              "    <tr>\n",
              "      <th>3</th>\n",
              "      <td>(download, aarogya)</td>\n",
              "      <td>28.316578</td>\n",
              "    </tr>\n",
              "    <tr>\n",
              "      <th>4</th>\n",
              "      <td>(app, not)</td>\n",
              "      <td>24.922853</td>\n",
              "    </tr>\n",
              "  </tbody>\n",
              "</table>\n",
              "</div>"
            ],
            "text/plain": [
              "                bigram          t\n",
              "0      (aarogya, setu)  96.265038\n",
              "1          (setu, app)  70.045601\n",
              "2   (aarogyasetu, app)  28.682156\n",
              "3  (download, aarogya)  28.316578\n",
              "4           (app, not)  24.922853"
            ]
          },
          "metadata": {
            "tags": []
          },
          "execution_count": 51
        }
      ]
    },
    {
      "cell_type": "code",
      "metadata": {
        "id": "RqdN3s7_ni9b"
      },
      "source": [
        "filteredT_bi = bigramTtable[bigramTtable.bigram.map(lambda x: rightTypes(x))]"
      ],
      "execution_count": null,
      "outputs": []
    },
    {
      "cell_type": "code",
      "metadata": {
        "id": "OlE72h-Vni9b",
        "colab": {
          "base_uri": "https://localhost:8080/",
          "height": 359
        },
        "outputId": "c26f8067-5507-41d5-f22d-8e4be44d89fe"
      },
      "source": [
        "filteredT_bi[:10]"
      ],
      "execution_count": null,
      "outputs": [
        {
          "output_type": "execute_result",
          "data": {
            "text/html": [
              "<div>\n",
              "<style scoped>\n",
              "    .dataframe tbody tr th:only-of-type {\n",
              "        vertical-align: middle;\n",
              "    }\n",
              "\n",
              "    .dataframe tbody tr th {\n",
              "        vertical-align: top;\n",
              "    }\n",
              "\n",
              "    .dataframe thead th {\n",
              "        text-align: right;\n",
              "    }\n",
              "</style>\n",
              "<table border=\"1\" class=\"dataframe\">\n",
              "  <thead>\n",
              "    <tr style=\"text-align: right;\">\n",
              "      <th></th>\n",
              "      <th>bigram</th>\n",
              "      <th>t</th>\n",
              "    </tr>\n",
              "  </thead>\n",
              "  <tbody>\n",
              "    <tr>\n",
              "      <th>0</th>\n",
              "      <td>(aarogya, setu)</td>\n",
              "      <td>96.265038</td>\n",
              "    </tr>\n",
              "    <tr>\n",
              "      <th>1</th>\n",
              "      <td>(setu, app)</td>\n",
              "      <td>70.045601</td>\n",
              "    </tr>\n",
              "    <tr>\n",
              "      <th>2</th>\n",
              "      <td>(aarogyasetu, app)</td>\n",
              "      <td>28.682156</td>\n",
              "    </tr>\n",
              "    <tr>\n",
              "      <th>3</th>\n",
              "      <td>(download, aarogya)</td>\n",
              "      <td>28.316578</td>\n",
              "    </tr>\n",
              "    <tr>\n",
              "      <th>6</th>\n",
              "      <td>(contact, trace)</td>\n",
              "      <td>17.999391</td>\n",
              "    </tr>\n",
              "    <tr>\n",
              "      <th>8</th>\n",
              "      <td>(self, declaration)</td>\n",
              "      <td>17.224211</td>\n",
              "    </tr>\n",
              "    <tr>\n",
              "      <th>9</th>\n",
              "      <td>(smart, phone)</td>\n",
              "      <td>16.981410</td>\n",
              "    </tr>\n",
              "    <tr>\n",
              "      <th>10</th>\n",
              "      <td>(declaration, form)</td>\n",
              "      <td>16.942790</td>\n",
              "    </tr>\n",
              "    <tr>\n",
              "      <th>12</th>\n",
              "      <td>(use, aarogya)</td>\n",
              "      <td>15.795171</td>\n",
              "    </tr>\n",
              "    <tr>\n",
              "      <th>15</th>\n",
              "      <td>(create, aarogya)</td>\n",
              "      <td>15.273181</td>\n",
              "    </tr>\n",
              "  </tbody>\n",
              "</table>\n",
              "</div>"
            ],
            "text/plain": [
              "                 bigram          t\n",
              "0       (aarogya, setu)  96.265038\n",
              "1           (setu, app)  70.045601\n",
              "2    (aarogyasetu, app)  28.682156\n",
              "3   (download, aarogya)  28.316578\n",
              "6      (contact, trace)  17.999391\n",
              "8   (self, declaration)  17.224211\n",
              "9        (smart, phone)  16.981410\n",
              "10  (declaration, form)  16.942790\n",
              "12       (use, aarogya)  15.795171\n",
              "15    (create, aarogya)  15.273181"
            ]
          },
          "metadata": {
            "tags": []
          },
          "execution_count": 53
        }
      ]
    },
    {
      "cell_type": "code",
      "metadata": {
        "collapsed": true,
        "id": "eP8A9xnfni9c"
      },
      "source": [
        "trigramTtable = pd.DataFrame(list(trigramFinder.score_ngrams(trigrams.student_t)), columns=['trigram','t']).sort_values(by='t', ascending=False)"
      ],
      "execution_count": null,
      "outputs": []
    },
    {
      "cell_type": "code",
      "metadata": {
        "id": "pRiHd6Seni9c",
        "colab": {
          "base_uri": "https://localhost:8080/",
          "height": 204
        },
        "outputId": "28fb8d7a-c7bf-495d-b54a-603895f627c0"
      },
      "source": [
        "trigramTtable.head()"
      ],
      "execution_count": null,
      "outputs": [
        {
          "output_type": "execute_result",
          "data": {
            "text/html": [
              "<div>\n",
              "<style scoped>\n",
              "    .dataframe tbody tr th:only-of-type {\n",
              "        vertical-align: middle;\n",
              "    }\n",
              "\n",
              "    .dataframe tbody tr th {\n",
              "        vertical-align: top;\n",
              "    }\n",
              "\n",
              "    .dataframe thead th {\n",
              "        text-align: right;\n",
              "    }\n",
              "</style>\n",
              "<table border=\"1\" class=\"dataframe\">\n",
              "  <thead>\n",
              "    <tr style=\"text-align: right;\">\n",
              "      <th></th>\n",
              "      <th>trigram</th>\n",
              "      <th>t</th>\n",
              "    </tr>\n",
              "  </thead>\n",
              "  <tbody>\n",
              "    <tr>\n",
              "      <th>0</th>\n",
              "      <td>(aarogya, setu, app)</td>\n",
              "      <td>74.540741</td>\n",
              "    </tr>\n",
              "    <tr>\n",
              "      <th>1</th>\n",
              "      <td>(download, aarogya, setu)</td>\n",
              "      <td>30.861601</td>\n",
              "    </tr>\n",
              "    <tr>\n",
              "      <th>2</th>\n",
              "      <td>(setu, app, not)</td>\n",
              "      <td>28.295935</td>\n",
              "    </tr>\n",
              "    <tr>\n",
              "      <th>3</th>\n",
              "      <td>(aarogya, setu, not)</td>\n",
              "      <td>26.070304</td>\n",
              "    </tr>\n",
              "    <tr>\n",
              "      <th>4</th>\n",
              "      <td>(use, aarogya, setu)</td>\n",
              "      <td>19.806456</td>\n",
              "    </tr>\n",
              "  </tbody>\n",
              "</table>\n",
              "</div>"
            ],
            "text/plain": [
              "                     trigram          t\n",
              "0       (aarogya, setu, app)  74.540741\n",
              "1  (download, aarogya, setu)  30.861601\n",
              "2           (setu, app, not)  28.295935\n",
              "3       (aarogya, setu, not)  26.070304\n",
              "4       (use, aarogya, setu)  19.806456"
            ]
          },
          "metadata": {
            "tags": []
          },
          "execution_count": 55
        }
      ]
    },
    {
      "cell_type": "code",
      "metadata": {
        "collapsed": true,
        "id": "7EjMR2VWni9c"
      },
      "source": [
        "filteredT_tri = trigramTtable[trigramTtable.trigram.map(lambda x: rightTypesTri(x))]"
      ],
      "execution_count": null,
      "outputs": []
    },
    {
      "cell_type": "code",
      "metadata": {
        "id": "5vJ2j8Zxni9d",
        "colab": {
          "base_uri": "https://localhost:8080/",
          "height": 359
        },
        "outputId": "6941bc75-4411-4de1-8c92-a9b0321e5272"
      },
      "source": [
        "filteredT_tri.head(10)"
      ],
      "execution_count": null,
      "outputs": [
        {
          "output_type": "execute_result",
          "data": {
            "text/html": [
              "<div>\n",
              "<style scoped>\n",
              "    .dataframe tbody tr th:only-of-type {\n",
              "        vertical-align: middle;\n",
              "    }\n",
              "\n",
              "    .dataframe tbody tr th {\n",
              "        vertical-align: top;\n",
              "    }\n",
              "\n",
              "    .dataframe thead th {\n",
              "        text-align: right;\n",
              "    }\n",
              "</style>\n",
              "<table border=\"1\" class=\"dataframe\">\n",
              "  <thead>\n",
              "    <tr style=\"text-align: right;\">\n",
              "      <th></th>\n",
              "      <th>trigram</th>\n",
              "      <th>t</th>\n",
              "    </tr>\n",
              "  </thead>\n",
              "  <tbody>\n",
              "    <tr>\n",
              "      <th>0</th>\n",
              "      <td>(aarogya, setu, app)</td>\n",
              "      <td>74.540741</td>\n",
              "    </tr>\n",
              "    <tr>\n",
              "      <th>1</th>\n",
              "      <td>(download, aarogya, setu)</td>\n",
              "      <td>30.861601</td>\n",
              "    </tr>\n",
              "    <tr>\n",
              "      <th>4</th>\n",
              "      <td>(use, aarogya, setu)</td>\n",
              "      <td>19.806456</td>\n",
              "    </tr>\n",
              "    <tr>\n",
              "      <th>7</th>\n",
              "      <td>(self, declaration, form)</td>\n",
              "      <td>15.747960</td>\n",
              "    </tr>\n",
              "    <tr>\n",
              "      <th>8</th>\n",
              "      <td>(setu, app, mandatory)</td>\n",
              "      <td>14.806361</td>\n",
              "    </tr>\n",
              "    <tr>\n",
              "      <th>9</th>\n",
              "      <td>(setu, app, help)</td>\n",
              "      <td>14.279039</td>\n",
              "    </tr>\n",
              "    <tr>\n",
              "      <th>10</th>\n",
              "      <td>(install, aarogya, setu)</td>\n",
              "      <td>14.227459</td>\n",
              "    </tr>\n",
              "    <tr>\n",
              "      <th>11</th>\n",
              "      <td>(contact, trace, app)</td>\n",
              "      <td>13.561768</td>\n",
              "    </tr>\n",
              "    <tr>\n",
              "      <th>13</th>\n",
              "      <td>(breach, aarogya, setu)</td>\n",
              "      <td>13.412753</td>\n",
              "    </tr>\n",
              "    <tr>\n",
              "      <th>15</th>\n",
              "      <td>(immunity, download, aarogya)</td>\n",
              "      <td>13.070519</td>\n",
              "    </tr>\n",
              "  </tbody>\n",
              "</table>\n",
              "</div>"
            ],
            "text/plain": [
              "                          trigram          t\n",
              "0            (aarogya, setu, app)  74.540741\n",
              "1       (download, aarogya, setu)  30.861601\n",
              "4            (use, aarogya, setu)  19.806456\n",
              "7       (self, declaration, form)  15.747960\n",
              "8          (setu, app, mandatory)  14.806361\n",
              "9               (setu, app, help)  14.279039\n",
              "10       (install, aarogya, setu)  14.227459\n",
              "11          (contact, trace, app)  13.561768\n",
              "13        (breach, aarogya, setu)  13.412753\n",
              "15  (immunity, download, aarogya)  13.070519"
            ]
          },
          "metadata": {
            "tags": []
          },
          "execution_count": 57
        }
      ]
    },
    {
      "cell_type": "code",
      "metadata": {
        "collapsed": true,
        "id": "0nZi1t2vni9d"
      },
      "source": [
        "t_bi = filteredT_bi[:20].bigram.values"
      ],
      "execution_count": null,
      "outputs": []
    },
    {
      "cell_type": "code",
      "metadata": {
        "collapsed": true,
        "id": "TANqtTxQni9d"
      },
      "source": [
        "t_tri = filteredT_tri[:20].trigram.values"
      ],
      "execution_count": null,
      "outputs": []
    },
    {
      "cell_type": "markdown",
      "metadata": {
        "id": "VRSi4N5wni9d"
      },
      "source": [
        "## 4. Chi-Square"
      ]
    },
    {
      "cell_type": "code",
      "metadata": {
        "collapsed": true,
        "id": "_AB6jQcDni9d"
      },
      "source": [
        "bigramChiTable = pd.DataFrame(list(bigramFinder.score_ngrams(bigrams.chi_sq)), columns=['bigram','chi-sq']).sort_values(by='chi-sq', ascending=False)"
      ],
      "execution_count": null,
      "outputs": []
    },
    {
      "cell_type": "code",
      "metadata": {
        "id": "qPak1Cwgni9e",
        "colab": {
          "base_uri": "https://localhost:8080/",
          "height": 669
        },
        "outputId": "71d02437-69b6-4547-a306-0d23a9539706"
      },
      "source": [
        "bigramChiTable.head(20)"
      ],
      "execution_count": null,
      "outputs": [
        {
          "output_type": "execute_result",
          "data": {
            "text/html": [
              "<div>\n",
              "<style scoped>\n",
              "    .dataframe tbody tr th:only-of-type {\n",
              "        vertical-align: middle;\n",
              "    }\n",
              "\n",
              "    .dataframe tbody tr th {\n",
              "        vertical-align: top;\n",
              "    }\n",
              "\n",
              "    .dataframe thead th {\n",
              "        text-align: right;\n",
              "    }\n",
              "</style>\n",
              "<table border=\"1\" class=\"dataframe\">\n",
              "  <thead>\n",
              "    <tr style=\"text-align: right;\">\n",
              "      <th></th>\n",
              "      <th>bigram</th>\n",
              "      <th>chi-sq</th>\n",
              "    </tr>\n",
              "  </thead>\n",
              "  <tbody>\n",
              "    <tr>\n",
              "      <th>0</th>\n",
              "      <td>(tik, tok)</td>\n",
              "      <td>256086.000000</td>\n",
              "    </tr>\n",
              "    <tr>\n",
              "      <th>1</th>\n",
              "      <td>(aarogya, setu)</td>\n",
              "      <td>247330.347503</td>\n",
              "    </tr>\n",
              "    <tr>\n",
              "      <th>2</th>\n",
              "      <td>(cyberbullye, cyberthreat)</td>\n",
              "      <td>243890.476116</td>\n",
              "    </tr>\n",
              "    <tr>\n",
              "      <th>3</th>\n",
              "      <td>(laxman, rekha)</td>\n",
              "      <td>243788.157344</td>\n",
              "    </tr>\n",
              "    <tr>\n",
              "      <th>4</th>\n",
              "      <td>(cybercrime, cyberattack)</td>\n",
              "      <td>223186.796208</td>\n",
              "    </tr>\n",
              "    <tr>\n",
              "      <th>5</th>\n",
              "      <td>(cyberattack, cyberbullye)</td>\n",
              "      <td>222680.869361</td>\n",
              "    </tr>\n",
              "    <tr>\n",
              "      <th>6</th>\n",
              "      <td>(chairman, empower)</td>\n",
              "      <td>193999.393514</td>\n",
              "    </tr>\n",
              "    <tr>\n",
              "      <th>7</th>\n",
              "      <td>(powerful, companion)</td>\n",
              "      <td>186866.269501</td>\n",
              "    </tr>\n",
              "    <tr>\n",
              "      <th>8</th>\n",
              "      <td>(adapt, saptapati)</td>\n",
              "      <td>181530.798425</td>\n",
              "    </tr>\n",
              "    <tr>\n",
              "      <th>9</th>\n",
              "      <td>(dc, gurugram)</td>\n",
              "      <td>175944.609899</td>\n",
              "    </tr>\n",
              "    <tr>\n",
              "      <th>10</th>\n",
              "      <td>(declaration, form)</td>\n",
              "      <td>175881.570906</td>\n",
              "    </tr>\n",
              "    <tr>\n",
              "      <th>11</th>\n",
              "      <td>(ravi, shankar)</td>\n",
              "      <td>172486.626123</td>\n",
              "    </tr>\n",
              "    <tr>\n",
              "      <th>12</th>\n",
              "      <td>(hindustan, times)</td>\n",
              "      <td>164606.781378</td>\n",
              "    </tr>\n",
              "    <tr>\n",
              "      <th>13</th>\n",
              "      <td>(gate, assist)</td>\n",
              "      <td>162809.167084</td>\n",
              "    </tr>\n",
              "    <tr>\n",
              "      <th>14</th>\n",
              "      <td>(shankar, prasad)</td>\n",
              "      <td>160005.505104</td>\n",
              "    </tr>\n",
              "    <tr>\n",
              "      <th>15</th>\n",
              "      <td>(cabin, baggage)</td>\n",
              "      <td>157291.717267</td>\n",
              "    </tr>\n",
              "    <tr>\n",
              "      <th>16</th>\n",
              "      <td>(social, distancing)</td>\n",
              "      <td>151772.774466</td>\n",
              "    </tr>\n",
              "    <tr>\n",
              "      <th>17</th>\n",
              "      <td>(bangalore, programmer)</td>\n",
              "      <td>150354.114816</td>\n",
              "    </tr>\n",
              "    <tr>\n",
              "      <th>18</th>\n",
              "      <td>(hardeep, singh)</td>\n",
              "      <td>150237.714612</td>\n",
              "    </tr>\n",
              "    <tr>\n",
              "      <th>19</th>\n",
              "      <td>(rahul, gandhi)</td>\n",
              "      <td>141611.246385</td>\n",
              "    </tr>\n",
              "  </tbody>\n",
              "</table>\n",
              "</div>"
            ],
            "text/plain": [
              "                        bigram         chi-sq\n",
              "0                   (tik, tok)  256086.000000\n",
              "1              (aarogya, setu)  247330.347503\n",
              "2   (cyberbullye, cyberthreat)  243890.476116\n",
              "3              (laxman, rekha)  243788.157344\n",
              "4    (cybercrime, cyberattack)  223186.796208\n",
              "5   (cyberattack, cyberbullye)  222680.869361\n",
              "6          (chairman, empower)  193999.393514\n",
              "7        (powerful, companion)  186866.269501\n",
              "8           (adapt, saptapati)  181530.798425\n",
              "9               (dc, gurugram)  175944.609899\n",
              "10         (declaration, form)  175881.570906\n",
              "11             (ravi, shankar)  172486.626123\n",
              "12          (hindustan, times)  164606.781378\n",
              "13              (gate, assist)  162809.167084\n",
              "14           (shankar, prasad)  160005.505104\n",
              "15            (cabin, baggage)  157291.717267\n",
              "16        (social, distancing)  151772.774466\n",
              "17     (bangalore, programmer)  150354.114816\n",
              "18            (hardeep, singh)  150237.714612\n",
              "19             (rahul, gandhi)  141611.246385"
            ]
          },
          "metadata": {
            "tags": []
          },
          "execution_count": 61
        }
      ]
    },
    {
      "cell_type": "code",
      "metadata": {
        "collapsed": true,
        "id": "iqIfTjDIni9e"
      },
      "source": [
        "trigramChiTable = pd.DataFrame(list(trigramFinder.score_ngrams(trigrams.chi_sq)), columns=['trigram','chi-sq']).sort_values(by='chi-sq', ascending=False)"
      ],
      "execution_count": null,
      "outputs": []
    },
    {
      "cell_type": "code",
      "metadata": {
        "id": "3jhHOlVTni9e",
        "colab": {
          "base_uri": "https://localhost:8080/",
          "height": 669
        },
        "outputId": "613f3b32-df7e-47f4-eb21-d51b1d0f2773"
      },
      "source": [
        "trigramChiTable.head(20)"
      ],
      "execution_count": null,
      "outputs": [
        {
          "output_type": "execute_result",
          "data": {
            "text/html": [
              "<div>\n",
              "<style scoped>\n",
              "    .dataframe tbody tr th:only-of-type {\n",
              "        vertical-align: middle;\n",
              "    }\n",
              "\n",
              "    .dataframe tbody tr th {\n",
              "        vertical-align: top;\n",
              "    }\n",
              "\n",
              "    .dataframe thead th {\n",
              "        text-align: right;\n",
              "    }\n",
              "</style>\n",
              "<table border=\"1\" class=\"dataframe\">\n",
              "  <thead>\n",
              "    <tr style=\"text-align: right;\">\n",
              "      <th></th>\n",
              "      <th>trigram</th>\n",
              "      <th>chi-sq</th>\n",
              "    </tr>\n",
              "  </thead>\n",
              "  <tbody>\n",
              "    <tr>\n",
              "      <th>0</th>\n",
              "      <td>(cyberattack, cyberbullye, cyberthreat)</td>\n",
              "      <td>2.715530e+09</td>\n",
              "    </tr>\n",
              "    <tr>\n",
              "      <th>1</th>\n",
              "      <td>(cybercrime, cyberattack, cyberbullye)</td>\n",
              "      <td>2.592097e+09</td>\n",
              "    </tr>\n",
              "    <tr>\n",
              "      <th>2</th>\n",
              "      <td>(cybersecurity, cybercrime, cyberattack)</td>\n",
              "      <td>8.405256e+08</td>\n",
              "    </tr>\n",
              "    <tr>\n",
              "      <th>3</th>\n",
              "      <td>(chairman, empower, group)</td>\n",
              "      <td>8.013209e+08</td>\n",
              "    </tr>\n",
              "    <tr>\n",
              "      <th>4</th>\n",
              "      <td>(ravi, shankar, prasad)</td>\n",
              "      <td>7.423783e+08</td>\n",
              "    </tr>\n",
              "    <tr>\n",
              "      <th>5</th>\n",
              "      <td>(dataprivacy, cybersecurity, cybercrime)</td>\n",
              "      <td>4.833024e+08</td>\n",
              "    </tr>\n",
              "    <tr>\n",
              "      <th>6</th>\n",
              "      <td>(datasecurity, dataprivacy, cybersecurity)</td>\n",
              "      <td>4.592447e+08</td>\n",
              "    </tr>\n",
              "    <tr>\n",
              "      <th>7</th>\n",
              "      <td>(hardeep, singh, puri)</td>\n",
              "      <td>4.474564e+08</td>\n",
              "    </tr>\n",
              "    <tr>\n",
              "      <th>8</th>\n",
              "      <td>(powerful, companion, protect)</td>\n",
              "      <td>2.900346e+08</td>\n",
              "    </tr>\n",
              "    <tr>\n",
              "      <th>9</th>\n",
              "      <td>(within, laxman, rekha)</td>\n",
              "      <td>2.268846e+08</td>\n",
              "    </tr>\n",
              "    <tr>\n",
              "      <th>10</th>\n",
              "      <td>(entry, gate, assist)</td>\n",
              "      <td>1.516526e+08</td>\n",
              "    </tr>\n",
              "    <tr>\n",
              "      <th>11</th>\n",
              "      <td>(data, datasecurity, dataprivacy)</td>\n",
              "      <td>1.340286e+08</td>\n",
              "    </tr>\n",
              "    <tr>\n",
              "      <th>12</th>\n",
              "      <td>(grateful, towards, warrior)</td>\n",
              "      <td>1.225099e+08</td>\n",
              "    </tr>\n",
              "    <tr>\n",
              "      <th>13</th>\n",
              "      <td>(narendramodis, appeal, indians)</td>\n",
              "      <td>1.224555e+08</td>\n",
              "    </tr>\n",
              "    <tr>\n",
              "      <th>14</th>\n",
              "      <td>(bangalore, programmer, hack)</td>\n",
              "      <td>1.188674e+08</td>\n",
              "    </tr>\n",
              "    <tr>\n",
              "      <th>15</th>\n",
              "      <td>(architecture, indulge, surveillance)</td>\n",
              "      <td>9.837219e+07</td>\n",
              "    </tr>\n",
              "    <tr>\n",
              "      <th>16</th>\n",
              "      <td>(outsource, private, operator)</td>\n",
              "      <td>9.477120e+07</td>\n",
              "    </tr>\n",
              "    <tr>\n",
              "      <th>17</th>\n",
              "      <td>(step, boost, immunity)</td>\n",
              "      <td>8.459908e+07</td>\n",
              "    </tr>\n",
              "    <tr>\n",
              "      <th>18</th>\n",
              "      <td>(ensure, strict, compliance)</td>\n",
              "      <td>8.350597e+07</td>\n",
              "    </tr>\n",
              "    <tr>\n",
              "      <th>19</th>\n",
              "      <td>(stay, within, laxman)</td>\n",
              "      <td>8.296974e+07</td>\n",
              "    </tr>\n",
              "  </tbody>\n",
              "</table>\n",
              "</div>"
            ],
            "text/plain": [
              "                                       trigram        chi-sq\n",
              "0      (cyberattack, cyberbullye, cyberthreat)  2.715530e+09\n",
              "1       (cybercrime, cyberattack, cyberbullye)  2.592097e+09\n",
              "2     (cybersecurity, cybercrime, cyberattack)  8.405256e+08\n",
              "3                   (chairman, empower, group)  8.013209e+08\n",
              "4                      (ravi, shankar, prasad)  7.423783e+08\n",
              "5     (dataprivacy, cybersecurity, cybercrime)  4.833024e+08\n",
              "6   (datasecurity, dataprivacy, cybersecurity)  4.592447e+08\n",
              "7                       (hardeep, singh, puri)  4.474564e+08\n",
              "8               (powerful, companion, protect)  2.900346e+08\n",
              "9                      (within, laxman, rekha)  2.268846e+08\n",
              "10                       (entry, gate, assist)  1.516526e+08\n",
              "11           (data, datasecurity, dataprivacy)  1.340286e+08\n",
              "12                (grateful, towards, warrior)  1.225099e+08\n",
              "13            (narendramodis, appeal, indians)  1.224555e+08\n",
              "14               (bangalore, programmer, hack)  1.188674e+08\n",
              "15       (architecture, indulge, surveillance)  9.837219e+07\n",
              "16              (outsource, private, operator)  9.477120e+07\n",
              "17                     (step, boost, immunity)  8.459908e+07\n",
              "18                (ensure, strict, compliance)  8.350597e+07\n",
              "19                      (stay, within, laxman)  8.296974e+07"
            ]
          },
          "metadata": {
            "tags": []
          },
          "execution_count": 63
        }
      ]
    },
    {
      "cell_type": "code",
      "metadata": {
        "collapsed": true,
        "id": "CO2ilAzMni9f"
      },
      "source": [
        "chi_bi = bigramChiTable[:20].bigram.values"
      ],
      "execution_count": null,
      "outputs": []
    },
    {
      "cell_type": "code",
      "metadata": {
        "collapsed": true,
        "id": "BJLWHlUYni9f"
      },
      "source": [
        "chi_tri = trigramChiTable[:20].trigram.values"
      ],
      "execution_count": null,
      "outputs": []
    },
    {
      "cell_type": "markdown",
      "metadata": {
        "id": "eqZuoIzuni9f"
      },
      "source": [
        "## 5. Likelihood"
      ]
    },
    {
      "cell_type": "code",
      "metadata": {
        "collapsed": true,
        "id": "CbTsTvWdni9f"
      },
      "source": [
        "bigramLikTable = pd.DataFrame(list(bigramFinder.score_ngrams(bigrams.likelihood_ratio)), columns=['bigram','likelihood ratio']).sort_values(by='likelihood ratio', ascending=False)"
      ],
      "execution_count": null,
      "outputs": []
    },
    {
      "cell_type": "code",
      "metadata": {
        "id": "De3HYwO_ni9f",
        "colab": {
          "base_uri": "https://localhost:8080/",
          "height": 204
        },
        "outputId": "95dc2076-77c5-43f0-fd45-bf4d22edd641"
      },
      "source": [
        "bigramLikTable.head()"
      ],
      "execution_count": null,
      "outputs": [
        {
          "output_type": "execute_result",
          "data": {
            "text/html": [
              "<div>\n",
              "<style scoped>\n",
              "    .dataframe tbody tr th:only-of-type {\n",
              "        vertical-align: middle;\n",
              "    }\n",
              "\n",
              "    .dataframe tbody tr th {\n",
              "        vertical-align: top;\n",
              "    }\n",
              "\n",
              "    .dataframe thead th {\n",
              "        text-align: right;\n",
              "    }\n",
              "</style>\n",
              "<table border=\"1\" class=\"dataframe\">\n",
              "  <thead>\n",
              "    <tr style=\"text-align: right;\">\n",
              "      <th></th>\n",
              "      <th>bigram</th>\n",
              "      <th>likelihood ratio</th>\n",
              "    </tr>\n",
              "  </thead>\n",
              "  <tbody>\n",
              "    <tr>\n",
              "      <th>0</th>\n",
              "      <td>(aarogya, setu)</td>\n",
              "      <td>81453.592967</td>\n",
              "    </tr>\n",
              "    <tr>\n",
              "      <th>1</th>\n",
              "      <td>(setu, app)</td>\n",
              "      <td>26958.375274</td>\n",
              "    </tr>\n",
              "    <tr>\n",
              "      <th>2</th>\n",
              "      <td>(mohfw, india)</td>\n",
              "      <td>3924.261659</td>\n",
              "    </tr>\n",
              "    <tr>\n",
              "      <th>3</th>\n",
              "      <td>(declaration, form)</td>\n",
              "      <td>3852.122694</td>\n",
              "    </tr>\n",
              "    <tr>\n",
              "      <th>4</th>\n",
              "      <td>(contact, trace)</td>\n",
              "      <td>3682.483445</td>\n",
              "    </tr>\n",
              "  </tbody>\n",
              "</table>\n",
              "</div>"
            ],
            "text/plain": [
              "                bigram  likelihood ratio\n",
              "0      (aarogya, setu)      81453.592967\n",
              "1          (setu, app)      26958.375274\n",
              "2       (mohfw, india)       3924.261659\n",
              "3  (declaration, form)       3852.122694\n",
              "4     (contact, trace)       3682.483445"
            ]
          },
          "metadata": {
            "tags": []
          },
          "execution_count": 67
        }
      ]
    },
    {
      "cell_type": "code",
      "metadata": {
        "collapsed": true,
        "id": "3pSuxAwNni9g"
      },
      "source": [
        "filteredLik_bi = bigramLikTable[bigramLikTable.bigram.map(lambda x: rightTypes(x))]"
      ],
      "execution_count": null,
      "outputs": []
    },
    {
      "cell_type": "code",
      "metadata": {
        "id": "RciIIxG9ni9g",
        "colab": {
          "base_uri": "https://localhost:8080/",
          "height": 359
        },
        "outputId": "6937ab4d-f0f6-4399-a812-63b2e0c7adeb"
      },
      "source": [
        "filteredLik_bi.head(10)"
      ],
      "execution_count": null,
      "outputs": [
        {
          "output_type": "execute_result",
          "data": {
            "text/html": [
              "<div>\n",
              "<style scoped>\n",
              "    .dataframe tbody tr th:only-of-type {\n",
              "        vertical-align: middle;\n",
              "    }\n",
              "\n",
              "    .dataframe tbody tr th {\n",
              "        vertical-align: top;\n",
              "    }\n",
              "\n",
              "    .dataframe thead th {\n",
              "        text-align: right;\n",
              "    }\n",
              "</style>\n",
              "<table border=\"1\" class=\"dataframe\">\n",
              "  <thead>\n",
              "    <tr style=\"text-align: right;\">\n",
              "      <th></th>\n",
              "      <th>bigram</th>\n",
              "      <th>likelihood ratio</th>\n",
              "    </tr>\n",
              "  </thead>\n",
              "  <tbody>\n",
              "    <tr>\n",
              "      <th>0</th>\n",
              "      <td>(aarogya, setu)</td>\n",
              "      <td>81453.592967</td>\n",
              "    </tr>\n",
              "    <tr>\n",
              "      <th>1</th>\n",
              "      <td>(setu, app)</td>\n",
              "      <td>26958.375274</td>\n",
              "    </tr>\n",
              "    <tr>\n",
              "      <th>3</th>\n",
              "      <td>(declaration, form)</td>\n",
              "      <td>3852.122694</td>\n",
              "    </tr>\n",
              "    <tr>\n",
              "      <th>4</th>\n",
              "      <td>(contact, trace)</td>\n",
              "      <td>3682.483445</td>\n",
              "    </tr>\n",
              "    <tr>\n",
              "      <th>5</th>\n",
              "      <td>(self, declaration)</td>\n",
              "      <td>3674.420570</td>\n",
              "    </tr>\n",
              "    <tr>\n",
              "      <th>6</th>\n",
              "      <td>(download, aarogya)</td>\n",
              "      <td>3506.765970</td>\n",
              "    </tr>\n",
              "    <tr>\n",
              "      <th>7</th>\n",
              "      <td>(aarogyasetu, app)</td>\n",
              "      <td>3236.842788</td>\n",
              "    </tr>\n",
              "    <tr>\n",
              "      <th>8</th>\n",
              "      <td>(smart, phone)</td>\n",
              "      <td>3075.159953</td>\n",
              "    </tr>\n",
              "    <tr>\n",
              "      <th>9</th>\n",
              "      <td>(social, distancing)</td>\n",
              "      <td>2964.571205</td>\n",
              "    </tr>\n",
              "    <tr>\n",
              "      <th>10</th>\n",
              "      <td>(employee, respect)</td>\n",
              "      <td>2406.115714</td>\n",
              "    </tr>\n",
              "  </tbody>\n",
              "</table>\n",
              "</div>"
            ],
            "text/plain": [
              "                  bigram  likelihood ratio\n",
              "0        (aarogya, setu)      81453.592967\n",
              "1            (setu, app)      26958.375274\n",
              "3    (declaration, form)       3852.122694\n",
              "4       (contact, trace)       3682.483445\n",
              "5    (self, declaration)       3674.420570\n",
              "6    (download, aarogya)       3506.765970\n",
              "7     (aarogyasetu, app)       3236.842788\n",
              "8         (smart, phone)       3075.159953\n",
              "9   (social, distancing)       2964.571205\n",
              "10   (employee, respect)       2406.115714"
            ]
          },
          "metadata": {
            "tags": []
          },
          "execution_count": 69
        }
      ]
    },
    {
      "cell_type": "code",
      "metadata": {
        "collapsed": true,
        "id": "3q49j7toni9g"
      },
      "source": [
        "trigramLikTable = pd.DataFrame(list(trigramFinder.score_ngrams(trigrams.likelihood_ratio)), columns=['trigram','likelihood ratio']).sort_values(by='likelihood ratio', ascending=False)"
      ],
      "execution_count": null,
      "outputs": []
    },
    {
      "cell_type": "code",
      "metadata": {
        "id": "_WHN3m_ani9g",
        "colab": {
          "base_uri": "https://localhost:8080/",
          "height": 204
        },
        "outputId": "30407053-f01b-4e4b-e969-83dbec5dc7b6"
      },
      "source": [
        "trigramLikTable.head()"
      ],
      "execution_count": null,
      "outputs": [
        {
          "output_type": "execute_result",
          "data": {
            "text/html": [
              "<div>\n",
              "<style scoped>\n",
              "    .dataframe tbody tr th:only-of-type {\n",
              "        vertical-align: middle;\n",
              "    }\n",
              "\n",
              "    .dataframe tbody tr th {\n",
              "        vertical-align: top;\n",
              "    }\n",
              "\n",
              "    .dataframe thead th {\n",
              "        text-align: right;\n",
              "    }\n",
              "</style>\n",
              "<table border=\"1\" class=\"dataframe\">\n",
              "  <thead>\n",
              "    <tr style=\"text-align: right;\">\n",
              "      <th></th>\n",
              "      <th>trigram</th>\n",
              "      <th>likelihood ratio</th>\n",
              "    </tr>\n",
              "  </thead>\n",
              "  <tbody>\n",
              "    <tr>\n",
              "      <th>0</th>\n",
              "      <td>(aarogya, setu, app)</td>\n",
              "      <td>162652.821953</td>\n",
              "    </tr>\n",
              "    <tr>\n",
              "      <th>1</th>\n",
              "      <td>(download, aarogya, setu)</td>\n",
              "      <td>127521.141500</td>\n",
              "    </tr>\n",
              "    <tr>\n",
              "      <th>2</th>\n",
              "      <td>(create, aarogya, setu)</td>\n",
              "      <td>123798.910611</td>\n",
              "    </tr>\n",
              "    <tr>\n",
              "      <th>3</th>\n",
              "      <td>(breach, aarogya, setu)</td>\n",
              "      <td>123248.319367</td>\n",
              "    </tr>\n",
              "    <tr>\n",
              "      <th>4</th>\n",
              "      <td>(register, aarogya, setu)</td>\n",
              "      <td>123246.714057</td>\n",
              "    </tr>\n",
              "  </tbody>\n",
              "</table>\n",
              "</div>"
            ],
            "text/plain": [
              "                     trigram  likelihood ratio\n",
              "0       (aarogya, setu, app)     162652.821953\n",
              "1  (download, aarogya, setu)     127521.141500\n",
              "2    (create, aarogya, setu)     123798.910611\n",
              "3    (breach, aarogya, setu)     123248.319367\n",
              "4  (register, aarogya, setu)     123246.714057"
            ]
          },
          "metadata": {
            "tags": []
          },
          "execution_count": 71
        }
      ]
    },
    {
      "cell_type": "code",
      "metadata": {
        "id": "AHbGHNgsni9h"
      },
      "source": [
        "filteredLik_tri = trigramLikTable[trigramLikTable.trigram.map(lambda x: rightTypesTri(x))]"
      ],
      "execution_count": null,
      "outputs": []
    },
    {
      "cell_type": "code",
      "metadata": {
        "scrolled": true,
        "id": "AWXE09COni9h",
        "colab": {
          "base_uri": "https://localhost:8080/",
          "height": 669
        },
        "outputId": "3272a008-b9a8-4664-f074-a322960c94a6"
      },
      "source": [
        "filteredLik_tri.head(20)"
      ],
      "execution_count": null,
      "outputs": [
        {
          "output_type": "execute_result",
          "data": {
            "text/html": [
              "<div>\n",
              "<style scoped>\n",
              "    .dataframe tbody tr th:only-of-type {\n",
              "        vertical-align: middle;\n",
              "    }\n",
              "\n",
              "    .dataframe tbody tr th {\n",
              "        vertical-align: top;\n",
              "    }\n",
              "\n",
              "    .dataframe thead th {\n",
              "        text-align: right;\n",
              "    }\n",
              "</style>\n",
              "<table border=\"1\" class=\"dataframe\">\n",
              "  <thead>\n",
              "    <tr style=\"text-align: right;\">\n",
              "      <th></th>\n",
              "      <th>trigram</th>\n",
              "      <th>likelihood ratio</th>\n",
              "    </tr>\n",
              "  </thead>\n",
              "  <tbody>\n",
              "    <tr>\n",
              "      <th>0</th>\n",
              "      <td>(aarogya, setu, app)</td>\n",
              "      <td>162652.821953</td>\n",
              "    </tr>\n",
              "    <tr>\n",
              "      <th>1</th>\n",
              "      <td>(download, aarogya, setu)</td>\n",
              "      <td>127521.141500</td>\n",
              "    </tr>\n",
              "    <tr>\n",
              "      <th>3</th>\n",
              "      <td>(breach, aarogya, setu)</td>\n",
              "      <td>123248.319367</td>\n",
              "    </tr>\n",
              "    <tr>\n",
              "      <th>4</th>\n",
              "      <td>(register, aarogya, setu)</td>\n",
              "      <td>123246.714057</td>\n",
              "    </tr>\n",
              "    <tr>\n",
              "      <th>5</th>\n",
              "      <td>(use, aarogya, setu)</td>\n",
              "      <td>123210.776837</td>\n",
              "    </tr>\n",
              "    <tr>\n",
              "      <th>6</th>\n",
              "      <td>(setu, aarogya, setu)</td>\n",
              "      <td>123205.639788</td>\n",
              "    </tr>\n",
              "    <tr>\n",
              "      <th>7</th>\n",
              "      <td>(install, aarogya, setu)</td>\n",
              "      <td>123205.621565</td>\n",
              "    </tr>\n",
              "    <tr>\n",
              "      <th>8</th>\n",
              "      <td>(aarogya, setu, aap)</td>\n",
              "      <td>122894.353022</td>\n",
              "    </tr>\n",
              "    <tr>\n",
              "      <th>9</th>\n",
              "      <td>(aarogya, setu, rti)</td>\n",
              "      <td>122791.442335</td>\n",
              "    </tr>\n",
              "    <tr>\n",
              "      <th>11</th>\n",
              "      <td>(instal, aarogya, setu)</td>\n",
              "      <td>122704.570410</td>\n",
              "    </tr>\n",
              "    <tr>\n",
              "      <th>12</th>\n",
              "      <td>(aarogya, setu, application)</td>\n",
              "      <td>122661.195636</td>\n",
              "    </tr>\n",
              "    <tr>\n",
              "      <th>14</th>\n",
              "      <td>(aarogya, setu, hour)</td>\n",
              "      <td>122614.691364</td>\n",
              "    </tr>\n",
              "    <tr>\n",
              "      <th>15</th>\n",
              "      <td>(hack, aarogya, setu)</td>\n",
              "      <td>122544.162061</td>\n",
              "    </tr>\n",
              "    <tr>\n",
              "      <th>16</th>\n",
              "      <td>(status, aarogya, setu)</td>\n",
              "      <td>122527.186451</td>\n",
              "    </tr>\n",
              "    <tr>\n",
              "      <th>17</th>\n",
              "      <td>(app, aarogya, setu)</td>\n",
              "      <td>122525.012259</td>\n",
              "    </tr>\n",
              "    <tr>\n",
              "      <th>20</th>\n",
              "      <td>(creator, aarogya, setu)</td>\n",
              "      <td>122414.675370</td>\n",
              "    </tr>\n",
              "    <tr>\n",
              "      <th>21</th>\n",
              "      <td>(sir, aarogya, setu)</td>\n",
              "      <td>122384.720878</td>\n",
              "    </tr>\n",
              "    <tr>\n",
              "      <th>22</th>\n",
              "      <td>(tharoor, aarogya, setu)</td>\n",
              "      <td>122379.084144</td>\n",
              "    </tr>\n",
              "    <tr>\n",
              "      <th>24</th>\n",
              "      <td>(aarogya, setu, powerful)</td>\n",
              "      <td>122366.714420</td>\n",
              "    </tr>\n",
              "    <tr>\n",
              "      <th>26</th>\n",
              "      <td>(aarogya, setu, httpst)</td>\n",
              "      <td>122349.926276</td>\n",
              "    </tr>\n",
              "  </tbody>\n",
              "</table>\n",
              "</div>"
            ],
            "text/plain": [
              "                         trigram  likelihood ratio\n",
              "0           (aarogya, setu, app)     162652.821953\n",
              "1      (download, aarogya, setu)     127521.141500\n",
              "3        (breach, aarogya, setu)     123248.319367\n",
              "4      (register, aarogya, setu)     123246.714057\n",
              "5           (use, aarogya, setu)     123210.776837\n",
              "6          (setu, aarogya, setu)     123205.639788\n",
              "7       (install, aarogya, setu)     123205.621565\n",
              "8           (aarogya, setu, aap)     122894.353022\n",
              "9           (aarogya, setu, rti)     122791.442335\n",
              "11       (instal, aarogya, setu)     122704.570410\n",
              "12  (aarogya, setu, application)     122661.195636\n",
              "14         (aarogya, setu, hour)     122614.691364\n",
              "15         (hack, aarogya, setu)     122544.162061\n",
              "16       (status, aarogya, setu)     122527.186451\n",
              "17          (app, aarogya, setu)     122525.012259\n",
              "20      (creator, aarogya, setu)     122414.675370\n",
              "21          (sir, aarogya, setu)     122384.720878\n",
              "22      (tharoor, aarogya, setu)     122379.084144\n",
              "24     (aarogya, setu, powerful)     122366.714420\n",
              "26       (aarogya, setu, httpst)     122349.926276"
            ]
          },
          "metadata": {
            "tags": []
          },
          "execution_count": 73
        }
      ]
    },
    {
      "cell_type": "code",
      "metadata": {
        "collapsed": true,
        "id": "2jUnhOg3ni9h"
      },
      "source": [
        "lik_bi = filteredLik_bi[:20].bigram.values"
      ],
      "execution_count": null,
      "outputs": []
    },
    {
      "cell_type": "code",
      "metadata": {
        "collapsed": true,
        "id": "Ihfc27bDni9h"
      },
      "source": [
        "lik_tri = filteredLik_tri[:20].trigram.values"
      ],
      "execution_count": null,
      "outputs": []
    },
    {
      "cell_type": "markdown",
      "metadata": {
        "id": "pIDQEgzYni9h"
      },
      "source": [
        "## Bigram Comparison"
      ]
    },
    {
      "cell_type": "code",
      "metadata": {
        "id": "atDTjP9Jni9i"
      },
      "source": [
        "bigramsCompare = pd.DataFrame([freq_bi, pmi_bi, t_bi, chi_bi, lik_bi]).T"
      ],
      "execution_count": null,
      "outputs": []
    },
    {
      "cell_type": "code",
      "metadata": {
        "collapsed": true,
        "id": "BWKg3fi7ni9i"
      },
      "source": [
        "bigramsCompare.columns = ['Frequency With Filter', 'PMI', 'T-test With Filter', 'Chi-Sq Test', 'Likeihood Ratio Test With Filter']"
      ],
      "execution_count": null,
      "outputs": []
    },
    {
      "cell_type": "code",
      "metadata": {
        "id": "lshhKPypni9i",
        "colab": {
          "base_uri": "https://localhost:8080/",
          "height": 754
        },
        "outputId": "cd3089da-8d5f-4d64-e4a1-801097438f4e"
      },
      "source": [
        "bigramsCompare"
      ],
      "execution_count": null,
      "outputs": [
        {
          "output_type": "execute_result",
          "data": {
            "text/html": [
              "<div>\n",
              "<style scoped>\n",
              "    .dataframe tbody tr th:only-of-type {\n",
              "        vertical-align: middle;\n",
              "    }\n",
              "\n",
              "    .dataframe tbody tr th {\n",
              "        vertical-align: top;\n",
              "    }\n",
              "\n",
              "    .dataframe thead th {\n",
              "        text-align: right;\n",
              "    }\n",
              "</style>\n",
              "<table border=\"1\" class=\"dataframe\">\n",
              "  <thead>\n",
              "    <tr style=\"text-align: right;\">\n",
              "      <th></th>\n",
              "      <th>Frequency With Filter</th>\n",
              "      <th>PMI</th>\n",
              "      <th>T-test With Filter</th>\n",
              "      <th>Chi-Sq Test</th>\n",
              "      <th>Likeihood Ratio Test With Filter</th>\n",
              "    </tr>\n",
              "  </thead>\n",
              "  <tbody>\n",
              "    <tr>\n",
              "      <th>0</th>\n",
              "      <td>(aarogya, setu)</td>\n",
              "      <td>(cyberbullye, cyberthreat)</td>\n",
              "      <td>(aarogya, setu)</td>\n",
              "      <td>(tik, tok)</td>\n",
              "      <td>(aarogya, setu)</td>\n",
              "    </tr>\n",
              "    <tr>\n",
              "      <th>1</th>\n",
              "      <td>(setu, app)</td>\n",
              "      <td>(cyberattack, cyberbullye)</td>\n",
              "      <td>(setu, app)</td>\n",
              "      <td>(aarogya, setu)</td>\n",
              "      <td>(setu, app)</td>\n",
              "    </tr>\n",
              "    <tr>\n",
              "      <th>2</th>\n",
              "      <td>(aarogyasetu, app)</td>\n",
              "      <td>(cybercrime, cyberattack)</td>\n",
              "      <td>(aarogyasetu, app)</td>\n",
              "      <td>(cyberbullye, cyberthreat)</td>\n",
              "      <td>(declaration, form)</td>\n",
              "    </tr>\n",
              "    <tr>\n",
              "      <th>3</th>\n",
              "      <td>(download, aarogya)</td>\n",
              "      <td>(tik, tok)</td>\n",
              "      <td>(download, aarogya)</td>\n",
              "      <td>(laxman, rekha)</td>\n",
              "      <td>(contact, trace)</td>\n",
              "    </tr>\n",
              "    <tr>\n",
              "      <th>4</th>\n",
              "      <td>(use, aarogya)</td>\n",
              "      <td>(chairman, empower)</td>\n",
              "      <td>(contact, trace)</td>\n",
              "      <td>(cybercrime, cyberattack)</td>\n",
              "      <td>(self, declaration)</td>\n",
              "    </tr>\n",
              "    <tr>\n",
              "      <th>5</th>\n",
              "      <td>(app, httpst)</td>\n",
              "      <td>(powerful, companion)</td>\n",
              "      <td>(self, declaration)</td>\n",
              "      <td>(cyberattack, cyberbullye)</td>\n",
              "      <td>(download, aarogya)</td>\n",
              "    </tr>\n",
              "    <tr>\n",
              "      <th>6</th>\n",
              "      <td>(contact, trace)</td>\n",
              "      <td>(niti, aayog)</td>\n",
              "      <td>(smart, phone)</td>\n",
              "      <td>(chairman, empower)</td>\n",
              "      <td>(aarogyasetu, app)</td>\n",
              "    </tr>\n",
              "    <tr>\n",
              "      <th>7</th>\n",
              "      <td>(self, declaration)</td>\n",
              "      <td>(datasecurity, dataprivacy)</td>\n",
              "      <td>(declaration, form)</td>\n",
              "      <td>(powerful, companion)</td>\n",
              "      <td>(smart, phone)</td>\n",
              "    </tr>\n",
              "    <tr>\n",
              "      <th>8</th>\n",
              "      <td>(smart, phone)</td>\n",
              "      <td>(architecture, indulge)</td>\n",
              "      <td>(use, aarogya)</td>\n",
              "      <td>(adapt, saptapati)</td>\n",
              "      <td>(social, distancing)</td>\n",
              "    </tr>\n",
              "    <tr>\n",
              "      <th>9</th>\n",
              "      <td>(declaration, form)</td>\n",
              "      <td>(dc, gurugram)</td>\n",
              "      <td>(create, aarogya)</td>\n",
              "      <td>(dc, gurugram)</td>\n",
              "      <td>(employee, respect)</td>\n",
              "    </tr>\n",
              "    <tr>\n",
              "      <th>10</th>\n",
              "      <td>(app, mandatory)</td>\n",
              "      <td>(linen, blanket)</td>\n",
              "      <td>(employee, respect)</td>\n",
              "      <td>(declaration, form)</td>\n",
              "      <td>(lay, employee)</td>\n",
              "    </tr>\n",
              "    <tr>\n",
              "      <th>11</th>\n",
              "      <td>(create, aarogya)</td>\n",
              "      <td>(ravi, shankar)</td>\n",
              "      <td>(social, distancing)</td>\n",
              "      <td>(ravi, shankar)</td>\n",
              "      <td>(laxman, rekha)</td>\n",
              "    </tr>\n",
              "    <tr>\n",
              "      <th>12</th>\n",
              "      <td>(app, help)</td>\n",
              "      <td>(arnab, kumar)</td>\n",
              "      <td>(fight, covid)</td>\n",
              "      <td>(hindustan, times)</td>\n",
              "      <td>(security, breach)</td>\n",
              "    </tr>\n",
              "    <tr>\n",
              "      <th>13</th>\n",
              "      <td>(download, app)</td>\n",
              "      <td>(shankar, prasad)</td>\n",
              "      <td>(app, mandatory)</td>\n",
              "      <td>(gate, assist)</td>\n",
              "      <td>(open, source)</td>\n",
              "    </tr>\n",
              "    <tr>\n",
              "      <th>14</th>\n",
              "      <td>(employee, respect)</td>\n",
              "      <td>(grateful, towards)</td>\n",
              "      <td>(security, breach)</td>\n",
              "      <td>(shankar, prasad)</td>\n",
              "      <td>(homemade, mask)</td>\n",
              "    </tr>\n",
              "    <tr>\n",
              "      <th>15</th>\n",
              "      <td>(social, distancing)</td>\n",
              "      <td>(adapt, saptapati)</td>\n",
              "      <td>(information, create)</td>\n",
              "      <td>(cabin, baggage)</td>\n",
              "      <td>(boost, immunity)</td>\n",
              "    </tr>\n",
              "    <tr>\n",
              "      <th>16</th>\n",
              "      <td>(use, aarogyasetu)</td>\n",
              "      <td>(cybersecurity, cybercrime)</td>\n",
              "      <td>(pmoindia, narendramodi)</td>\n",
              "      <td>(social, distancing)</td>\n",
              "      <td>(rti, body)</td>\n",
              "    </tr>\n",
              "    <tr>\n",
              "      <th>17</th>\n",
              "      <td>(fight, covid)</td>\n",
              "      <td>(empower, group)</td>\n",
              "      <td>(app, help)</td>\n",
              "      <td>(bangalore, programmer)</td>\n",
              "      <td>(showcause, notice)</td>\n",
              "    </tr>\n",
              "    <tr>\n",
              "      <th>18</th>\n",
              "      <td>(install, aarogya)</td>\n",
              "      <td>(cabin, baggage)</td>\n",
              "      <td>(immunity, download)</td>\n",
              "      <td>(hardeep, singh)</td>\n",
              "      <td>(gate, assist)</td>\n",
              "    </tr>\n",
              "    <tr>\n",
              "      <th>19</th>\n",
              "      <td>(trace, app)</td>\n",
              "      <td>(mygov, ceo)</td>\n",
              "      <td>(datum, security)</td>\n",
              "      <td>(rahul, gandhi)</td>\n",
              "      <td>(care, elder)</td>\n",
              "    </tr>\n",
              "  </tbody>\n",
              "</table>\n",
              "</div>"
            ],
            "text/plain": [
              "   Frequency With Filter  ... Likeihood Ratio Test With Filter\n",
              "0        (aarogya, setu)  ...                  (aarogya, setu)\n",
              "1            (setu, app)  ...                      (setu, app)\n",
              "2     (aarogyasetu, app)  ...              (declaration, form)\n",
              "3    (download, aarogya)  ...                 (contact, trace)\n",
              "4         (use, aarogya)  ...              (self, declaration)\n",
              "5          (app, httpst)  ...              (download, aarogya)\n",
              "6       (contact, trace)  ...               (aarogyasetu, app)\n",
              "7    (self, declaration)  ...                   (smart, phone)\n",
              "8         (smart, phone)  ...             (social, distancing)\n",
              "9    (declaration, form)  ...              (employee, respect)\n",
              "10      (app, mandatory)  ...                  (lay, employee)\n",
              "11     (create, aarogya)  ...                  (laxman, rekha)\n",
              "12           (app, help)  ...               (security, breach)\n",
              "13       (download, app)  ...                   (open, source)\n",
              "14   (employee, respect)  ...                 (homemade, mask)\n",
              "15  (social, distancing)  ...                (boost, immunity)\n",
              "16    (use, aarogyasetu)  ...                      (rti, body)\n",
              "17        (fight, covid)  ...              (showcause, notice)\n",
              "18    (install, aarogya)  ...                   (gate, assist)\n",
              "19          (trace, app)  ...                    (care, elder)\n",
              "\n",
              "[20 rows x 5 columns]"
            ]
          },
          "metadata": {
            "tags": []
          },
          "execution_count": 79
        }
      ]
    },
    {
      "cell_type": "markdown",
      "metadata": {
        "id": "6LI3GcC9ni9i"
      },
      "source": [
        "## Trigram Comparison"
      ]
    },
    {
      "cell_type": "code",
      "metadata": {
        "collapsed": true,
        "id": "B02rFqG0ni9j"
      },
      "source": [
        "trigramsCompare = pd.DataFrame([freq_tri, pmi_tri, t_tri, chi_tri, lik_tri]).T"
      ],
      "execution_count": null,
      "outputs": []
    },
    {
      "cell_type": "code",
      "metadata": {
        "collapsed": true,
        "id": "wj8ofbL-ni9j"
      },
      "source": [
        "trigramsCompare.columns = ['Frequency With Filter', 'PMI', 'T-test With Filter', 'Chi-Sq Test', 'Likeihood Ratio Test With Filter']"
      ],
      "execution_count": null,
      "outputs": []
    },
    {
      "cell_type": "code",
      "metadata": {
        "id": "YTtcfa5ani9j",
        "colab": {
          "base_uri": "https://localhost:8080/",
          "height": 975
        },
        "outputId": "5c5ebfe9-128e-4553-d26d-9c87edcc91b3"
      },
      "source": [
        "trigramsCompare"
      ],
      "execution_count": null,
      "outputs": [
        {
          "output_type": "execute_result",
          "data": {
            "text/html": [
              "<div>\n",
              "<style scoped>\n",
              "    .dataframe tbody tr th:only-of-type {\n",
              "        vertical-align: middle;\n",
              "    }\n",
              "\n",
              "    .dataframe tbody tr th {\n",
              "        vertical-align: top;\n",
              "    }\n",
              "\n",
              "    .dataframe thead th {\n",
              "        text-align: right;\n",
              "    }\n",
              "</style>\n",
              "<table border=\"1\" class=\"dataframe\">\n",
              "  <thead>\n",
              "    <tr style=\"text-align: right;\">\n",
              "      <th></th>\n",
              "      <th>Frequency With Filter</th>\n",
              "      <th>PMI</th>\n",
              "      <th>T-test With Filter</th>\n",
              "      <th>Chi-Sq Test</th>\n",
              "      <th>Likeihood Ratio Test With Filter</th>\n",
              "    </tr>\n",
              "  </thead>\n",
              "  <tbody>\n",
              "    <tr>\n",
              "      <th>0</th>\n",
              "      <td>(aarogya, setu, app)</td>\n",
              "      <td>(cyberattack, cyberbullye, cyberthreat)</td>\n",
              "      <td>(aarogya, setu, app)</td>\n",
              "      <td>(cyberattack, cyberbullye, cyberthreat)</td>\n",
              "      <td>(aarogya, setu, app)</td>\n",
              "    </tr>\n",
              "    <tr>\n",
              "      <th>1</th>\n",
              "      <td>(download, aarogya, setu)</td>\n",
              "      <td>(cybercrime, cyberattack, cyberbullye)</td>\n",
              "      <td>(download, aarogya, setu)</td>\n",
              "      <td>(cybercrime, cyberattack, cyberbullye)</td>\n",
              "      <td>(download, aarogya, setu)</td>\n",
              "    </tr>\n",
              "    <tr>\n",
              "      <th>2</th>\n",
              "      <td>(use, aarogya, setu)</td>\n",
              "      <td>(chairman, empower, group)</td>\n",
              "      <td>(use, aarogya, setu)</td>\n",
              "      <td>(cybersecurity, cybercrime, cyberattack)</td>\n",
              "      <td>(breach, aarogya, setu)</td>\n",
              "    </tr>\n",
              "    <tr>\n",
              "      <th>3</th>\n",
              "      <td>(self, declaration, form)</td>\n",
              "      <td>(cybersecurity, cybercrime, cyberattack)</td>\n",
              "      <td>(self, declaration, form)</td>\n",
              "      <td>(chairman, empower, group)</td>\n",
              "      <td>(register, aarogya, setu)</td>\n",
              "    </tr>\n",
              "    <tr>\n",
              "      <th>4</th>\n",
              "      <td>(setu, app, mandatory)</td>\n",
              "      <td>(dataprivacy, cybersecurity, cybercrime)</td>\n",
              "      <td>(setu, app, mandatory)</td>\n",
              "      <td>(ravi, shankar, prasad)</td>\n",
              "      <td>(use, aarogya, setu)</td>\n",
              "    </tr>\n",
              "    <tr>\n",
              "      <th>5</th>\n",
              "      <td>(setu, app, help)</td>\n",
              "      <td>(datasecurity, dataprivacy, cybersecurity)</td>\n",
              "      <td>(setu, app, help)</td>\n",
              "      <td>(dataprivacy, cybersecurity, cybercrime)</td>\n",
              "      <td>(setu, aarogya, setu)</td>\n",
              "    </tr>\n",
              "    <tr>\n",
              "      <th>6</th>\n",
              "      <td>(install, aarogya, setu)</td>\n",
              "      <td>(ravi, shankar, prasad)</td>\n",
              "      <td>(install, aarogya, setu)</td>\n",
              "      <td>(datasecurity, dataprivacy, cybersecurity)</td>\n",
              "      <td>(install, aarogya, setu)</td>\n",
              "    </tr>\n",
              "    <tr>\n",
              "      <th>7</th>\n",
              "      <td>(contact, trace, app)</td>\n",
              "      <td>(powerful, companion, protect)</td>\n",
              "      <td>(contact, trace, app)</td>\n",
              "      <td>(hardeep, singh, puri)</td>\n",
              "      <td>(aarogya, setu, aap)</td>\n",
              "    </tr>\n",
              "    <tr>\n",
              "      <th>8</th>\n",
              "      <td>(breach, aarogya, setu)</td>\n",
              "      <td>(hardeep, singh, puri)</td>\n",
              "      <td>(breach, aarogya, setu)</td>\n",
              "      <td>(powerful, companion, protect)</td>\n",
              "      <td>(aarogya, setu, rti)</td>\n",
              "    </tr>\n",
              "    <tr>\n",
              "      <th>9</th>\n",
              "      <td>(setu, app, httpst)</td>\n",
              "      <td>(data, datasecurity, dataprivacy)</td>\n",
              "      <td>(immunity, download, aarogya)</td>\n",
              "      <td>(within, laxman, rekha)</td>\n",
              "      <td>(instal, aarogya, setu)</td>\n",
              "    </tr>\n",
              "    <tr>\n",
              "      <th>10</th>\n",
              "      <td>(use, aarogyasetu, app)</td>\n",
              "      <td>(outsource, private, operator)</td>\n",
              "      <td>(use, aarogyasetu, app)</td>\n",
              "      <td>(entry, gate, assist)</td>\n",
              "      <td>(aarogya, setu, application)</td>\n",
              "    </tr>\n",
              "    <tr>\n",
              "      <th>11</th>\n",
              "      <td>(immunity, download, aarogya)</td>\n",
              "      <td>(architecture, indulge, surveillance)</td>\n",
              "      <td>(register, aarogya, setu)</td>\n",
              "      <td>(data, datasecurity, dataprivacy)</td>\n",
              "      <td>(aarogya, setu, hour)</td>\n",
              "    </tr>\n",
              "    <tr>\n",
              "      <th>12</th>\n",
              "      <td>(register, aarogya, setu)</td>\n",
              "      <td>(grateful, towards, warrior)</td>\n",
              "      <td>(information, create, aarogya)</td>\n",
              "      <td>(grateful, towards, warrior)</td>\n",
              "      <td>(hack, aarogya, setu)</td>\n",
              "    </tr>\n",
              "    <tr>\n",
              "      <th>13</th>\n",
              "      <td>(information, create, aarogya)</td>\n",
              "      <td>(ensure, strict, compliance)</td>\n",
              "      <td>(setu, app, httpst)</td>\n",
              "      <td>(narendramodis, appeal, indians)</td>\n",
              "      <td>(status, aarogya, setu)</td>\n",
              "    </tr>\n",
              "    <tr>\n",
              "      <th>14</th>\n",
              "      <td>(app, aarogya, setu)</td>\n",
              "      <td>(strict, compliance, guideline)</td>\n",
              "      <td>(instal, aarogya, setu)</td>\n",
              "      <td>(bangalore, programmer, hack)</td>\n",
              "      <td>(app, aarogya, setu)</td>\n",
              "    </tr>\n",
              "    <tr>\n",
              "      <th>15</th>\n",
              "      <td>(instal, aarogya, setu)</td>\n",
              "      <td>(claim, cybersecurity, activist)</td>\n",
              "      <td>(submit, self, declaration)</td>\n",
              "      <td>(architecture, indulge, surveillance)</td>\n",
              "      <td>(creator, aarogya, setu)</td>\n",
              "    </tr>\n",
              "    <tr>\n",
              "      <th>16</th>\n",
              "      <td>(submit, self, declaration)</td>\n",
              "      <td>(narendramodis, appeal, indians)</td>\n",
              "      <td>(use, homemade, mask)</td>\n",
              "      <td>(outsource, private, operator)</td>\n",
              "      <td>(sir, aarogya, setu)</td>\n",
              "    </tr>\n",
              "    <tr>\n",
              "      <th>17</th>\n",
              "      <td>(setu, app, show)</td>\n",
              "      <td>(become, excuse, creation)</td>\n",
              "      <td>(lay, employee, respect)</td>\n",
              "      <td>(step, boost, immunity)</td>\n",
              "      <td>(tharoor, aarogya, setu)</td>\n",
              "    </tr>\n",
              "    <tr>\n",
              "      <th>18</th>\n",
              "      <td>(use, homemade, mask)</td>\n",
              "      <td>(security, architecture, indulge)</td>\n",
              "      <td>(setu, app, show)</td>\n",
              "      <td>(ensure, strict, compliance)</td>\n",
              "      <td>(aarogya, setu, powerful)</td>\n",
              "    </tr>\n",
              "    <tr>\n",
              "      <th>19</th>\n",
              "      <td>(lay, employee, respect)</td>\n",
              "      <td>(lockdowntillmay, pm, narendramodis)</td>\n",
              "      <td>(app, aarogya, setu)</td>\n",
              "      <td>(stay, within, laxman)</td>\n",
              "      <td>(aarogya, setu, httpst)</td>\n",
              "    </tr>\n",
              "  </tbody>\n",
              "</table>\n",
              "</div>"
            ],
            "text/plain": [
              "             Frequency With Filter  ... Likeihood Ratio Test With Filter\n",
              "0             (aarogya, setu, app)  ...             (aarogya, setu, app)\n",
              "1        (download, aarogya, setu)  ...        (download, aarogya, setu)\n",
              "2             (use, aarogya, setu)  ...          (breach, aarogya, setu)\n",
              "3        (self, declaration, form)  ...        (register, aarogya, setu)\n",
              "4           (setu, app, mandatory)  ...             (use, aarogya, setu)\n",
              "5                (setu, app, help)  ...            (setu, aarogya, setu)\n",
              "6         (install, aarogya, setu)  ...         (install, aarogya, setu)\n",
              "7            (contact, trace, app)  ...             (aarogya, setu, aap)\n",
              "8          (breach, aarogya, setu)  ...             (aarogya, setu, rti)\n",
              "9              (setu, app, httpst)  ...          (instal, aarogya, setu)\n",
              "10         (use, aarogyasetu, app)  ...     (aarogya, setu, application)\n",
              "11   (immunity, download, aarogya)  ...            (aarogya, setu, hour)\n",
              "12       (register, aarogya, setu)  ...            (hack, aarogya, setu)\n",
              "13  (information, create, aarogya)  ...          (status, aarogya, setu)\n",
              "14            (app, aarogya, setu)  ...             (app, aarogya, setu)\n",
              "15         (instal, aarogya, setu)  ...         (creator, aarogya, setu)\n",
              "16     (submit, self, declaration)  ...             (sir, aarogya, setu)\n",
              "17               (setu, app, show)  ...         (tharoor, aarogya, setu)\n",
              "18           (use, homemade, mask)  ...        (aarogya, setu, powerful)\n",
              "19        (lay, employee, respect)  ...          (aarogya, setu, httpst)\n",
              "\n",
              "[20 rows x 5 columns]"
            ]
          },
          "metadata": {
            "tags": []
          },
          "execution_count": 82
        }
      ]
    },
    {
      "cell_type": "code",
      "metadata": {
        "id": "h-TVN7KI3jPU"
      },
      "source": [
        ""
      ],
      "execution_count": null,
      "outputs": []
    }
  ]
}